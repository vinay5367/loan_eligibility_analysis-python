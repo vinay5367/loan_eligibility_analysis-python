{
 "cells": [
  {
   "cell_type": "code",
   "execution_count": 335,
   "id": "293c2013-5795-448f-9a86-46eb7d0e664f",
   "metadata": {},
   "outputs": [],
   "source": [
    "# Importing necessary libraries.\n",
    "import pandas as pd\n",
    "import numpy as np\n",
    "import matplotlib.pyplot as plt\n",
    "import seaborn as sns"
   ]
  },
  {
   "cell_type": "markdown",
   "id": "696fda5f-6f88-4124-8212-ad414789effd",
   "metadata": {},
   "source": [
    "# Extract"
   ]
  },
  {
   "cell_type": "code",
   "execution_count": 2,
   "id": "1442a641-97c2-45b9-be15-7796fdcc1e8d",
   "metadata": {},
   "outputs": [
    {
     "data": {
      "text/html": [
       "<div>\n",
       "<style scoped>\n",
       "    .dataframe tbody tr th:only-of-type {\n",
       "        vertical-align: middle;\n",
       "    }\n",
       "\n",
       "    .dataframe tbody tr th {\n",
       "        vertical-align: top;\n",
       "    }\n",
       "\n",
       "    .dataframe thead th {\n",
       "        text-align: right;\n",
       "    }\n",
       "</style>\n",
       "<table border=\"1\" class=\"dataframe\">\n",
       "  <thead>\n",
       "    <tr style=\"text-align: right;\">\n",
       "      <th></th>\n",
       "      <th>Loan_ID</th>\n",
       "      <th>Gender</th>\n",
       "      <th>Married</th>\n",
       "      <th>Dependents</th>\n",
       "      <th>Education</th>\n",
       "      <th>Self_Employed</th>\n",
       "      <th>ApplicantIncome</th>\n",
       "      <th>CoapplicantIncome</th>\n",
       "      <th>LoanAmount</th>\n",
       "      <th>Loan_Amount_Term</th>\n",
       "      <th>Credit_History</th>\n",
       "      <th>Property_Area</th>\n",
       "      <th>Loan_Status</th>\n",
       "    </tr>\n",
       "  </thead>\n",
       "  <tbody>\n",
       "    <tr>\n",
       "      <th>0</th>\n",
       "      <td>LP001002</td>\n",
       "      <td>Male</td>\n",
       "      <td>No</td>\n",
       "      <td>0</td>\n",
       "      <td>Graduate</td>\n",
       "      <td>No</td>\n",
       "      <td>5849</td>\n",
       "      <td>0.0</td>\n",
       "      <td>NaN</td>\n",
       "      <td>360.0</td>\n",
       "      <td>1.0</td>\n",
       "      <td>Urban</td>\n",
       "      <td>Y</td>\n",
       "    </tr>\n",
       "    <tr>\n",
       "      <th>1</th>\n",
       "      <td>LP001003</td>\n",
       "      <td>Male</td>\n",
       "      <td>Yes</td>\n",
       "      <td>1</td>\n",
       "      <td>Graduate</td>\n",
       "      <td>No</td>\n",
       "      <td>4583</td>\n",
       "      <td>1508.0</td>\n",
       "      <td>128.0</td>\n",
       "      <td>360.0</td>\n",
       "      <td>1.0</td>\n",
       "      <td>Rural</td>\n",
       "      <td>N</td>\n",
       "    </tr>\n",
       "    <tr>\n",
       "      <th>2</th>\n",
       "      <td>LP001005</td>\n",
       "      <td>Male</td>\n",
       "      <td>Yes</td>\n",
       "      <td>0</td>\n",
       "      <td>Graduate</td>\n",
       "      <td>Yes</td>\n",
       "      <td>3000</td>\n",
       "      <td>0.0</td>\n",
       "      <td>66.0</td>\n",
       "      <td>360.0</td>\n",
       "      <td>1.0</td>\n",
       "      <td>Urban</td>\n",
       "      <td>Y</td>\n",
       "    </tr>\n",
       "    <tr>\n",
       "      <th>3</th>\n",
       "      <td>LP001006</td>\n",
       "      <td>Male</td>\n",
       "      <td>Yes</td>\n",
       "      <td>0</td>\n",
       "      <td>Not Graduate</td>\n",
       "      <td>No</td>\n",
       "      <td>2583</td>\n",
       "      <td>2358.0</td>\n",
       "      <td>120.0</td>\n",
       "      <td>360.0</td>\n",
       "      <td>1.0</td>\n",
       "      <td>Urban</td>\n",
       "      <td>Y</td>\n",
       "    </tr>\n",
       "    <tr>\n",
       "      <th>4</th>\n",
       "      <td>LP001008</td>\n",
       "      <td>Male</td>\n",
       "      <td>No</td>\n",
       "      <td>0</td>\n",
       "      <td>Graduate</td>\n",
       "      <td>No</td>\n",
       "      <td>6000</td>\n",
       "      <td>0.0</td>\n",
       "      <td>141.0</td>\n",
       "      <td>360.0</td>\n",
       "      <td>1.0</td>\n",
       "      <td>Urban</td>\n",
       "      <td>Y</td>\n",
       "    </tr>\n",
       "  </tbody>\n",
       "</table>\n",
       "</div>"
      ],
      "text/plain": [
       "    Loan_ID Gender Married Dependents     Education Self_Employed  \\\n",
       "0  LP001002   Male      No          0      Graduate            No   \n",
       "1  LP001003   Male     Yes          1      Graduate            No   \n",
       "2  LP001005   Male     Yes          0      Graduate           Yes   \n",
       "3  LP001006   Male     Yes          0  Not Graduate            No   \n",
       "4  LP001008   Male      No          0      Graduate            No   \n",
       "\n",
       "   ApplicantIncome  CoapplicantIncome  LoanAmount  Loan_Amount_Term  \\\n",
       "0             5849                0.0         NaN             360.0   \n",
       "1             4583             1508.0       128.0             360.0   \n",
       "2             3000                0.0        66.0             360.0   \n",
       "3             2583             2358.0       120.0             360.0   \n",
       "4             6000                0.0       141.0             360.0   \n",
       "\n",
       "   Credit_History Property_Area Loan_Status  \n",
       "0             1.0         Urban           Y  \n",
       "1             1.0         Rural           N  \n",
       "2             1.0         Urban           Y  \n",
       "3             1.0         Urban           Y  \n",
       "4             1.0         Urban           Y  "
      ]
     },
     "execution_count": 2,
     "metadata": {},
     "output_type": "execute_result"
    }
   ],
   "source": [
    "df = pd.read_csv(\"LoanData.csv\")\n",
    "df.head()"
   ]
  },
  {
   "cell_type": "code",
   "execution_count": 3,
   "id": "e5496942-8925-4324-9c0c-11fee9e8aefb",
   "metadata": {},
   "outputs": [
    {
     "data": {
      "text/plain": [
       "(614, 13)"
      ]
     },
     "execution_count": 3,
     "metadata": {},
     "output_type": "execute_result"
    }
   ],
   "source": [
    "df.shape"
   ]
  },
  {
   "cell_type": "markdown",
   "id": "952a7bc0-00b6-4640-951a-69dc71d12ac5",
   "metadata": {},
   "source": [
    "**OBSERVATION** : There are a total of 614 rows and 13 columns in the raw dataset"
   ]
  },
  {
   "cell_type": "code",
   "execution_count": 4,
   "id": "b54de301-afbb-45c2-9030-28fa700a7fef",
   "metadata": {},
   "outputs": [
    {
     "data": {
      "text/plain": [
       "['Loan_ID',\n",
       " 'Gender',\n",
       " 'Married',\n",
       " 'Dependents',\n",
       " 'Education',\n",
       " 'Self_Employed',\n",
       " 'ApplicantIncome',\n",
       " 'CoapplicantIncome',\n",
       " 'LoanAmount',\n",
       " 'Loan_Amount_Term',\n",
       " 'Credit_History',\n",
       " 'Property_Area',\n",
       " 'Loan_Status']"
      ]
     },
     "execution_count": 4,
     "metadata": {},
     "output_type": "execute_result"
    }
   ],
   "source": [
    "df.columns.tolist()"
   ]
  },
  {
   "cell_type": "code",
   "execution_count": 5,
   "id": "baf5772e-f53b-4645-a857-1f155352d93d",
   "metadata": {},
   "outputs": [
    {
     "data": {
      "text/html": [
       "<div>\n",
       "<style scoped>\n",
       "    .dataframe tbody tr th:only-of-type {\n",
       "        vertical-align: middle;\n",
       "    }\n",
       "\n",
       "    .dataframe tbody tr th {\n",
       "        vertical-align: top;\n",
       "    }\n",
       "\n",
       "    .dataframe thead th {\n",
       "        text-align: right;\n",
       "    }\n",
       "</style>\n",
       "<table border=\"1\" class=\"dataframe\">\n",
       "  <thead>\n",
       "    <tr style=\"text-align: right;\">\n",
       "      <th></th>\n",
       "      <th>Loan_ID</th>\n",
       "      <th>Gender</th>\n",
       "      <th>Married</th>\n",
       "      <th>Dependents</th>\n",
       "      <th>Education</th>\n",
       "      <th>Self_Employed</th>\n",
       "      <th>Applicant_Income</th>\n",
       "      <th>Coapplicant_Income</th>\n",
       "      <th>Loan_Amount</th>\n",
       "      <th>Loan_Amount_Term</th>\n",
       "      <th>Credit_History</th>\n",
       "      <th>Property_Area</th>\n",
       "      <th>Loan_Status</th>\n",
       "    </tr>\n",
       "  </thead>\n",
       "  <tbody>\n",
       "    <tr>\n",
       "      <th>0</th>\n",
       "      <td>LP001002</td>\n",
       "      <td>Male</td>\n",
       "      <td>No</td>\n",
       "      <td>0</td>\n",
       "      <td>Graduate</td>\n",
       "      <td>No</td>\n",
       "      <td>5849</td>\n",
       "      <td>0.0</td>\n",
       "      <td>NaN</td>\n",
       "      <td>360.0</td>\n",
       "      <td>1.0</td>\n",
       "      <td>Urban</td>\n",
       "      <td>Y</td>\n",
       "    </tr>\n",
       "    <tr>\n",
       "      <th>1</th>\n",
       "      <td>LP001003</td>\n",
       "      <td>Male</td>\n",
       "      <td>Yes</td>\n",
       "      <td>1</td>\n",
       "      <td>Graduate</td>\n",
       "      <td>No</td>\n",
       "      <td>4583</td>\n",
       "      <td>1508.0</td>\n",
       "      <td>128.0</td>\n",
       "      <td>360.0</td>\n",
       "      <td>1.0</td>\n",
       "      <td>Rural</td>\n",
       "      <td>N</td>\n",
       "    </tr>\n",
       "    <tr>\n",
       "      <th>2</th>\n",
       "      <td>LP001005</td>\n",
       "      <td>Male</td>\n",
       "      <td>Yes</td>\n",
       "      <td>0</td>\n",
       "      <td>Graduate</td>\n",
       "      <td>Yes</td>\n",
       "      <td>3000</td>\n",
       "      <td>0.0</td>\n",
       "      <td>66.0</td>\n",
       "      <td>360.0</td>\n",
       "      <td>1.0</td>\n",
       "      <td>Urban</td>\n",
       "      <td>Y</td>\n",
       "    </tr>\n",
       "    <tr>\n",
       "      <th>3</th>\n",
       "      <td>LP001006</td>\n",
       "      <td>Male</td>\n",
       "      <td>Yes</td>\n",
       "      <td>0</td>\n",
       "      <td>Not Graduate</td>\n",
       "      <td>No</td>\n",
       "      <td>2583</td>\n",
       "      <td>2358.0</td>\n",
       "      <td>120.0</td>\n",
       "      <td>360.0</td>\n",
       "      <td>1.0</td>\n",
       "      <td>Urban</td>\n",
       "      <td>Y</td>\n",
       "    </tr>\n",
       "    <tr>\n",
       "      <th>4</th>\n",
       "      <td>LP001008</td>\n",
       "      <td>Male</td>\n",
       "      <td>No</td>\n",
       "      <td>0</td>\n",
       "      <td>Graduate</td>\n",
       "      <td>No</td>\n",
       "      <td>6000</td>\n",
       "      <td>0.0</td>\n",
       "      <td>141.0</td>\n",
       "      <td>360.0</td>\n",
       "      <td>1.0</td>\n",
       "      <td>Urban</td>\n",
       "      <td>Y</td>\n",
       "    </tr>\n",
       "  </tbody>\n",
       "</table>\n",
       "</div>"
      ],
      "text/plain": [
       "    Loan_ID Gender Married Dependents     Education Self_Employed  \\\n",
       "0  LP001002   Male      No          0      Graduate            No   \n",
       "1  LP001003   Male     Yes          1      Graduate            No   \n",
       "2  LP001005   Male     Yes          0      Graduate           Yes   \n",
       "3  LP001006   Male     Yes          0  Not Graduate            No   \n",
       "4  LP001008   Male      No          0      Graduate            No   \n",
       "\n",
       "   Applicant_Income  Coapplicant_Income  Loan_Amount  Loan_Amount_Term  \\\n",
       "0              5849                 0.0          NaN             360.0   \n",
       "1              4583              1508.0        128.0             360.0   \n",
       "2              3000                 0.0         66.0             360.0   \n",
       "3              2583              2358.0        120.0             360.0   \n",
       "4              6000                 0.0        141.0             360.0   \n",
       "\n",
       "   Credit_History Property_Area Loan_Status  \n",
       "0             1.0         Urban           Y  \n",
       "1             1.0         Rural           N  \n",
       "2             1.0         Urban           Y  \n",
       "3             1.0         Urban           Y  \n",
       "4             1.0         Urban           Y  "
      ]
     },
     "execution_count": 5,
     "metadata": {},
     "output_type": "execute_result"
    }
   ],
   "source": [
    "df.rename(columns={\"ApplicantIncome\":\"Applicant_Income\",\"CoapplicantIncome\":\"Coapplicant_Income\",\"LoanAmount\":\"Loan_Amount\"},inplace=True)\n",
    "df.head()"
   ]
  },
  {
   "cell_type": "code",
   "execution_count": 6,
   "id": "d5c496e9-2125-4781-9e65-e8a47efcc4a5",
   "metadata": {},
   "outputs": [
    {
     "data": {
      "text/plain": [
       "array(['LP001002', 'LP001003', 'LP001005', 'LP001006', 'LP001008',\n",
       "       'LP001011', 'LP001013', 'LP001014', 'LP001018', 'LP001020',\n",
       "       'LP001024', 'LP001027', 'LP001028', 'LP001029', 'LP001030',\n",
       "       'LP001032', 'LP001034', 'LP001036', 'LP001038', 'LP001041',\n",
       "       'LP001043', 'LP001046', 'LP001047', 'LP001050', 'LP001052',\n",
       "       'LP001066', 'LP001068', 'LP001073', 'LP001086', 'LP001087',\n",
       "       'LP001091', 'LP001095', 'LP001097', 'LP001098', 'LP001100',\n",
       "       'LP001106', 'LP001109', 'LP001112', 'LP001114', 'LP001116',\n",
       "       'LP001119', 'LP001120', 'LP001123', 'LP001131', 'LP001136',\n",
       "       'LP001137', 'LP001138', 'LP001144', 'LP001146', 'LP001151',\n",
       "       'LP001155', 'LP001157', 'LP001164', 'LP001179', 'LP001186',\n",
       "       'LP001194', 'LP001195', 'LP001197', 'LP001198', 'LP001199',\n",
       "       'LP001205', 'LP001206', 'LP001207', 'LP001213', 'LP001222',\n",
       "       'LP001225', 'LP001228', 'LP001233', 'LP001238', 'LP001241',\n",
       "       'LP001243', 'LP001245', 'LP001248', 'LP001250', 'LP001253',\n",
       "       'LP001255', 'LP001256', 'LP001259', 'LP001263', 'LP001264',\n",
       "       'LP001265', 'LP001266', 'LP001267', 'LP001273', 'LP001275',\n",
       "       'LP001279', 'LP001280', 'LP001282', 'LP001289', 'LP001310',\n",
       "       'LP001316', 'LP001318', 'LP001319', 'LP001322', 'LP001325',\n",
       "       'LP001326', 'LP001327', 'LP001333', 'LP001334', 'LP001343',\n",
       "       'LP001345', 'LP001349', 'LP001350', 'LP001356', 'LP001357',\n",
       "       'LP001367', 'LP001369', 'LP001370', 'LP001379', 'LP001384',\n",
       "       'LP001385', 'LP001387', 'LP001391', 'LP001392', 'LP001398',\n",
       "       'LP001401', 'LP001404', 'LP001405', 'LP001421', 'LP001422',\n",
       "       'LP001426', 'LP001430', 'LP001431', 'LP001432', 'LP001439',\n",
       "       'LP001443', 'LP001448', 'LP001449', 'LP001451', 'LP001465',\n",
       "       'LP001469', 'LP001473', 'LP001478', 'LP001482', 'LP001487',\n",
       "       'LP001488', 'LP001489', 'LP001491', 'LP001492', 'LP001493',\n",
       "       'LP001497', 'LP001498', 'LP001504', 'LP001507', 'LP001508',\n",
       "       'LP001514', 'LP001516', 'LP001518', 'LP001519', 'LP001520',\n",
       "       'LP001528', 'LP001529', 'LP001531', 'LP001532', 'LP001535',\n",
       "       'LP001536', 'LP001541', 'LP001543', 'LP001546', 'LP001552',\n",
       "       'LP001560', 'LP001562', 'LP001565', 'LP001570', 'LP001572',\n",
       "       'LP001574', 'LP001577', 'LP001578', 'LP001579', 'LP001580',\n",
       "       'LP001581', 'LP001585', 'LP001586', 'LP001594', 'LP001603',\n",
       "       'LP001606', 'LP001608', 'LP001610', 'LP001616', 'LP001630',\n",
       "       'LP001633', 'LP001634', 'LP001636', 'LP001637', 'LP001639',\n",
       "       'LP001640', 'LP001641', 'LP001643', 'LP001644', 'LP001647',\n",
       "       'LP001653', 'LP001656', 'LP001657', 'LP001658', 'LP001664',\n",
       "       'LP001665', 'LP001666', 'LP001669', 'LP001671', 'LP001673',\n",
       "       'LP001674', 'LP001677', 'LP001682', 'LP001688', 'LP001691',\n",
       "       'LP001692', 'LP001693', 'LP001698', 'LP001699', 'LP001702',\n",
       "       'LP001708', 'LP001711', 'LP001713', 'LP001715', 'LP001716',\n",
       "       'LP001720', 'LP001722', 'LP001726', 'LP001732', 'LP001734',\n",
       "       'LP001736', 'LP001743', 'LP001744', 'LP001749', 'LP001750',\n",
       "       'LP001751', 'LP001754', 'LP001758', 'LP001760', 'LP001761',\n",
       "       'LP001765', 'LP001768', 'LP001770', 'LP001776', 'LP001778',\n",
       "       'LP001784', 'LP001786', 'LP001788', 'LP001790', 'LP001792',\n",
       "       'LP001798', 'LP001800', 'LP001806', 'LP001807', 'LP001811',\n",
       "       'LP001813', 'LP001814', 'LP001819', 'LP001824', 'LP001825',\n",
       "       'LP001835', 'LP001836', 'LP001841', 'LP001843', 'LP001844',\n",
       "       'LP001846', 'LP001849', 'LP001854', 'LP001859', 'LP001864',\n",
       "       'LP001865', 'LP001868', 'LP001870', 'LP001871', 'LP001872',\n",
       "       'LP001875', 'LP001877', 'LP001882', 'LP001883', 'LP001884',\n",
       "       'LP001888', 'LP001891', 'LP001892', 'LP001894', 'LP001896',\n",
       "       'LP001900', 'LP001903', 'LP001904', 'LP001907', 'LP001908',\n",
       "       'LP001910', 'LP001914', 'LP001915', 'LP001917', 'LP001922',\n",
       "       'LP001924', 'LP001925', 'LP001926', 'LP001931', 'LP001935',\n",
       "       'LP001936', 'LP001938', 'LP001940', 'LP001945', 'LP001947',\n",
       "       'LP001949', 'LP001953', 'LP001954', 'LP001955', 'LP001963',\n",
       "       'LP001964', 'LP001972', 'LP001974', 'LP001977', 'LP001978',\n",
       "       'LP001990', 'LP001993', 'LP001994', 'LP001996', 'LP001998',\n",
       "       'LP002002', 'LP002004', 'LP002006', 'LP002008', 'LP002024',\n",
       "       'LP002031', 'LP002035', 'LP002036', 'LP002043', 'LP002050',\n",
       "       'LP002051', 'LP002053', 'LP002054', 'LP002055', 'LP002065',\n",
       "       'LP002067', 'LP002068', 'LP002082', 'LP002086', 'LP002087',\n",
       "       'LP002097', 'LP002098', 'LP002100', 'LP002101', 'LP002103',\n",
       "       'LP002106', 'LP002110', 'LP002112', 'LP002113', 'LP002114',\n",
       "       'LP002115', 'LP002116', 'LP002119', 'LP002126', 'LP002128',\n",
       "       'LP002129', 'LP002130', 'LP002131', 'LP002137', 'LP002138',\n",
       "       'LP002139', 'LP002140', 'LP002141', 'LP002142', 'LP002143',\n",
       "       'LP002144', 'LP002149', 'LP002151', 'LP002158', 'LP002160',\n",
       "       'LP002161', 'LP002170', 'LP002175', 'LP002178', 'LP002180',\n",
       "       'LP002181', 'LP002187', 'LP002188', 'LP002190', 'LP002191',\n",
       "       'LP002194', 'LP002197', 'LP002201', 'LP002205', 'LP002209',\n",
       "       'LP002211', 'LP002219', 'LP002223', 'LP002224', 'LP002225',\n",
       "       'LP002226', 'LP002229', 'LP002231', 'LP002234', 'LP002236',\n",
       "       'LP002237', 'LP002239', 'LP002243', 'LP002244', 'LP002250',\n",
       "       'LP002255', 'LP002262', 'LP002263', 'LP002265', 'LP002266',\n",
       "       'LP002272', 'LP002277', 'LP002281', 'LP002284', 'LP002287',\n",
       "       'LP002288', 'LP002296', 'LP002297', 'LP002300', 'LP002301',\n",
       "       'LP002305', 'LP002308', 'LP002314', 'LP002315', 'LP002317',\n",
       "       'LP002318', 'LP002319', 'LP002328', 'LP002332', 'LP002335',\n",
       "       'LP002337', 'LP002341', 'LP002342', 'LP002345', 'LP002347',\n",
       "       'LP002348', 'LP002357', 'LP002361', 'LP002362', 'LP002364',\n",
       "       'LP002366', 'LP002367', 'LP002368', 'LP002369', 'LP002370',\n",
       "       'LP002377', 'LP002379', 'LP002386', 'LP002387', 'LP002390',\n",
       "       'LP002393', 'LP002398', 'LP002401', 'LP002403', 'LP002407',\n",
       "       'LP002408', 'LP002409', 'LP002418', 'LP002422', 'LP002424',\n",
       "       'LP002429', 'LP002434', 'LP002435', 'LP002443', 'LP002444',\n",
       "       'LP002446', 'LP002447', 'LP002448', 'LP002449', 'LP002453',\n",
       "       'LP002455', 'LP002459', 'LP002467', 'LP002472', 'LP002473',\n",
       "       'LP002478', 'LP002484', 'LP002487', 'LP002489', 'LP002493',\n",
       "       'LP002494', 'LP002500', 'LP002501', 'LP002502', 'LP002505',\n",
       "       'LP002515', 'LP002517', 'LP002519', 'LP002522', 'LP002524',\n",
       "       'LP002527', 'LP002529', 'LP002530', 'LP002531', 'LP002533',\n",
       "       'LP002534', 'LP002536', 'LP002537', 'LP002541', 'LP002543',\n",
       "       'LP002544', 'LP002545', 'LP002547', 'LP002555', 'LP002556',\n",
       "       'LP002560', 'LP002562', 'LP002571', 'LP002582', 'LP002585',\n",
       "       'LP002586', 'LP002587', 'LP002588', 'LP002600', 'LP002602',\n",
       "       'LP002603', 'LP002606', 'LP002615', 'LP002618', 'LP002619',\n",
       "       'LP002622', 'LP002624', 'LP002625', 'LP002626', 'LP002634',\n",
       "       'LP002637', 'LP002640', 'LP002643', 'LP002648', 'LP002652',\n",
       "       'LP002659', 'LP002670', 'LP002682', 'LP002683', 'LP002684',\n",
       "       'LP002689', 'LP002690', 'LP002692', 'LP002693', 'LP002697',\n",
       "       'LP002699', 'LP002705', 'LP002706', 'LP002714', 'LP002716',\n",
       "       'LP002717', 'LP002720', 'LP002723', 'LP002729', 'LP002731',\n",
       "       'LP002732', 'LP002734', 'LP002738', 'LP002739', 'LP002740',\n",
       "       'LP002741', 'LP002743', 'LP002753', 'LP002755', 'LP002757',\n",
       "       'LP002767', 'LP002768', 'LP002772', 'LP002776', 'LP002777',\n",
       "       'LP002778', 'LP002784', 'LP002785', 'LP002788', 'LP002789',\n",
       "       'LP002792', 'LP002794', 'LP002795', 'LP002798', 'LP002804',\n",
       "       'LP002807', 'LP002813', 'LP002820', 'LP002821', 'LP002832',\n",
       "       'LP002833', 'LP002836', 'LP002837', 'LP002840', 'LP002841',\n",
       "       'LP002842', 'LP002847', 'LP002855', 'LP002862', 'LP002863',\n",
       "       'LP002868', 'LP002872', 'LP002874', 'LP002877', 'LP002888',\n",
       "       'LP002892', 'LP002893', 'LP002894', 'LP002898', 'LP002911',\n",
       "       'LP002912', 'LP002916', 'LP002917', 'LP002925', 'LP002926',\n",
       "       'LP002928', 'LP002931', 'LP002933', 'LP002936', 'LP002938',\n",
       "       'LP002940', 'LP002941', 'LP002943', 'LP002945', 'LP002948',\n",
       "       'LP002949', 'LP002950', 'LP002953', 'LP002958', 'LP002959',\n",
       "       'LP002960', 'LP002961', 'LP002964', 'LP002974', 'LP002978',\n",
       "       'LP002979', 'LP002983', 'LP002984', 'LP002990'], dtype=object)"
      ]
     },
     "execution_count": 6,
     "metadata": {},
     "output_type": "execute_result"
    }
   ],
   "source": [
    "df[\"Loan_ID\"].unique()"
   ]
  },
  {
   "cell_type": "code",
   "execution_count": 7,
   "id": "35b80bde-56c7-4acb-b731-40468cdd5a6b",
   "metadata": {},
   "outputs": [
    {
     "data": {
      "text/plain": [
       "614"
      ]
     },
     "execution_count": 7,
     "metadata": {},
     "output_type": "execute_result"
    }
   ],
   "source": [
    "df[\"Loan_ID\"].nunique()"
   ]
  },
  {
   "cell_type": "markdown",
   "id": "7752ec21-8143-4a78-b41d-4f8991f7b288",
   "metadata": {},
   "source": [
    "**OBSERVATION** : The Loan_ID column has as many unique values as the length of the Data Frame. \n",
    "Even though it is considered as unimportant column it can be kept to only use it in case of data transformation. "
   ]
  },
  {
   "cell_type": "code",
   "execution_count": 8,
   "id": "d36bd73e-4663-42f5-a335-b67aab3cd845",
   "metadata": {},
   "outputs": [
    {
     "data": {
      "text/plain": [
       "['Male', 'Female', nan]"
      ]
     },
     "execution_count": 8,
     "metadata": {},
     "output_type": "execute_result"
    }
   ],
   "source": [
    "df[\"Gender\"].unique().tolist()"
   ]
  },
  {
   "cell_type": "markdown",
   "id": "4c591abc-7c6d-4204-9e55-f8de09f13325",
   "metadata": {},
   "source": [
    "**OBSERVATION** : There are missing values in the Gender column"
   ]
  },
  {
   "cell_type": "code",
   "execution_count": 9,
   "id": "37b4cb56-a2a0-472a-bec6-710feff74bea",
   "metadata": {},
   "outputs": [
    {
     "data": {
      "text/plain": [
       "['No', 'Yes', nan]"
      ]
     },
     "execution_count": 9,
     "metadata": {},
     "output_type": "execute_result"
    }
   ],
   "source": [
    "df[\"Married\"].unique().tolist()"
   ]
  },
  {
   "cell_type": "code",
   "execution_count": 10,
   "id": "9aa64706-06b9-4235-bfba-dfedf2f35245",
   "metadata": {},
   "outputs": [
    {
     "data": {
      "text/plain": [
       "['0', '1', '2', '3+', nan]"
      ]
     },
     "execution_count": 10,
     "metadata": {},
     "output_type": "execute_result"
    }
   ],
   "source": [
    "df[\"Dependents\"].unique().tolist()"
   ]
  },
  {
   "cell_type": "markdown",
   "id": "2ee90233-0078-4545-b53d-7041a1db5776",
   "metadata": {},
   "source": [
    "**OBSERVATION** : Dependents have wrong data and hence wrong data type"
   ]
  },
  {
   "cell_type": "code",
   "execution_count": 11,
   "id": "b16b8d78-7bd5-4128-b1b0-0b7f1ed4701f",
   "metadata": {},
   "outputs": [
    {
     "data": {
      "text/plain": [
       "['Graduate', 'Not Graduate']"
      ]
     },
     "execution_count": 11,
     "metadata": {},
     "output_type": "execute_result"
    }
   ],
   "source": [
    "df[\"Education\"].unique().tolist()"
   ]
  },
  {
   "cell_type": "code",
   "execution_count": 12,
   "id": "0dd15bdc-2213-45a6-b53c-372eb3cb12bb",
   "metadata": {},
   "outputs": [
    {
     "data": {
      "text/plain": [
       "['No', 'Yes', nan]"
      ]
     },
     "execution_count": 12,
     "metadata": {},
     "output_type": "execute_result"
    }
   ],
   "source": [
    "df[\"Self_Employed\"].unique().tolist()"
   ]
  },
  {
   "cell_type": "code",
   "execution_count": 13,
   "id": "eacc429f-36ab-42fa-a2e5-54c04d67a039",
   "metadata": {},
   "outputs": [
    {
     "name": "stdout",
     "output_type": "stream",
     "text": [
      "[]\n"
     ]
    }
   ],
   "source": [
    "L =[]\n",
    "for i in df[\"Applicant_Income\"].unique().tolist():\n",
    "    if type(i) not in [int,float]:\n",
    "        L.append(i)\n",
    "print(L)"
   ]
  },
  {
   "cell_type": "markdown",
   "id": "21cb65fd-f144-474c-8d02-70e423ed379d",
   "metadata": {},
   "source": [
    "**OBSERVATION** : Correct data type for the \"Applicant_Income\" column."
   ]
  },
  {
   "cell_type": "code",
   "execution_count": 14,
   "id": "e00ce69e-df02-4ee6-a5b3-b140d90e58dd",
   "metadata": {},
   "outputs": [
    {
     "data": {
      "text/plain": [
       "505"
      ]
     },
     "execution_count": 14,
     "metadata": {},
     "output_type": "execute_result"
    }
   ],
   "source": [
    "len(df[\"Applicant_Income\"].unique().tolist())"
   ]
  },
  {
   "cell_type": "code",
   "execution_count": 15,
   "id": "b08598f0-17db-4b8e-9a64-213cf474abe3",
   "metadata": {},
   "outputs": [
    {
     "data": {
      "text/plain": [
       "np.int64(0)"
      ]
     },
     "execution_count": 15,
     "metadata": {},
     "output_type": "execute_result"
    }
   ],
   "source": [
    "df[\"Coapplicant_Income\"].isnull().sum()"
   ]
  },
  {
   "cell_type": "markdown",
   "id": "b8b5bbc0-6a00-4abd-af5a-2ae87e692ff5",
   "metadata": {},
   "source": [
    "TO CHECK IF THERE ARE ANY NULL VALUES IN THIS COLUMN."
   ]
  },
  {
   "cell_type": "code",
   "execution_count": 16,
   "id": "f9d406d8-9366-4579-aee0-3fc848dd5d7f",
   "metadata": {},
   "outputs": [],
   "source": [
    "df[\"Coapplicant_Income\"] = df[\"Coapplicant_Income\"].astype(int)"
   ]
  },
  {
   "cell_type": "markdown",
   "id": "36963e74-6e09-4fe1-a14c-715cc1f08cea",
   "metadata": {},
   "source": [
    "TO COVERT THE DATA TYPE TO INT"
   ]
  },
  {
   "cell_type": "code",
   "execution_count": 17,
   "id": "f1fdc245-1f1f-45e9-9e57-276ce863f5a0",
   "metadata": {},
   "outputs": [
    {
     "data": {
      "text/plain": [
       "array([ nan, 128.,  66., 120., 141., 267.,  95., 158., 168., 349.,  70.,\n",
       "       109., 200., 114.,  17., 125., 100.,  76., 133., 115., 104., 315.,\n",
       "       116., 112., 151., 191., 122., 110.,  35., 201.,  74., 106., 320.,\n",
       "       144., 184.,  80.,  47.,  75., 134.,  96.,  88.,  44., 286.,  97.,\n",
       "       135., 180.,  99., 165., 258., 126., 312., 136., 172.,  81., 187.,\n",
       "       113., 176., 130., 111., 167., 265.,  50., 210., 175., 131., 188.,\n",
       "        25., 137., 160., 225., 216.,  94., 139., 152., 118., 185., 154.,\n",
       "        85., 259., 194.,  93., 370., 182., 650., 102., 290.,  84., 242.,\n",
       "       129.,  30., 244., 600., 255.,  98., 275., 121.,  63., 700.,  87.,\n",
       "       101., 495.,  67.,  73., 260., 108.,  58.,  48., 164., 170.,  83.,\n",
       "        90., 166., 124.,  55.,  59., 127., 214., 240.,  72.,  60., 138.,\n",
       "        42., 280., 140., 155., 123., 279., 192., 304., 330., 150., 207.,\n",
       "       436.,  78.,  54.,  89., 143., 105., 132., 480.,  56., 159., 300.,\n",
       "       376., 117.,  71., 490., 173.,  46., 228., 308., 236., 570., 380.,\n",
       "       296., 156., 103.,  45.,  65.,  53., 360.,  62., 218., 178., 239.,\n",
       "       405., 148., 190., 149., 153., 162., 230.,  86., 234., 246., 500.,\n",
       "       186., 119., 107., 209., 208., 243.,  40., 250., 311., 400., 161.,\n",
       "       196., 324., 157., 145., 181.,  26., 211.,   9., 205.,  36.,  61.,\n",
       "       146., 292., 142., 350., 496., 253.])"
      ]
     },
     "execution_count": 17,
     "metadata": {},
     "output_type": "execute_result"
    }
   ],
   "source": [
    "df[\"Loan_Amount\"].unique()"
   ]
  },
  {
   "cell_type": "code",
   "execution_count": 18,
   "id": "051a6185-7a3c-40f5-90c0-aa33f01812cd",
   "metadata": {},
   "outputs": [
    {
     "data": {
      "text/html": [
       "<div>\n",
       "<style scoped>\n",
       "    .dataframe tbody tr th:only-of-type {\n",
       "        vertical-align: middle;\n",
       "    }\n",
       "\n",
       "    .dataframe tbody tr th {\n",
       "        vertical-align: top;\n",
       "    }\n",
       "\n",
       "    .dataframe thead th {\n",
       "        text-align: right;\n",
       "    }\n",
       "</style>\n",
       "<table border=\"1\" class=\"dataframe\">\n",
       "  <thead>\n",
       "    <tr style=\"text-align: right;\">\n",
       "      <th></th>\n",
       "      <th>Loan_ID</th>\n",
       "      <th>Gender</th>\n",
       "      <th>Married</th>\n",
       "      <th>Dependents</th>\n",
       "      <th>Education</th>\n",
       "      <th>Self_Employed</th>\n",
       "      <th>Applicant_Income</th>\n",
       "      <th>Coapplicant_Income</th>\n",
       "      <th>Loan_Amount</th>\n",
       "      <th>Loan_Amount_Term</th>\n",
       "      <th>Credit_History</th>\n",
       "      <th>Property_Area</th>\n",
       "      <th>Loan_Status</th>\n",
       "    </tr>\n",
       "  </thead>\n",
       "  <tbody>\n",
       "    <tr>\n",
       "      <th>0</th>\n",
       "      <td>LP001002</td>\n",
       "      <td>Male</td>\n",
       "      <td>No</td>\n",
       "      <td>0</td>\n",
       "      <td>Graduate</td>\n",
       "      <td>No</td>\n",
       "      <td>5849</td>\n",
       "      <td>0</td>\n",
       "      <td>NaN</td>\n",
       "      <td>360.0</td>\n",
       "      <td>1.0</td>\n",
       "      <td>Urban</td>\n",
       "      <td>Y</td>\n",
       "    </tr>\n",
       "  </tbody>\n",
       "</table>\n",
       "</div>"
      ],
      "text/plain": [
       "    Loan_ID Gender Married Dependents Education Self_Employed  \\\n",
       "0  LP001002   Male      No          0  Graduate            No   \n",
       "\n",
       "   Applicant_Income  Coapplicant_Income  Loan_Amount  Loan_Amount_Term  \\\n",
       "0              5849                   0          NaN             360.0   \n",
       "\n",
       "   Credit_History Property_Area Loan_Status  \n",
       "0             1.0         Urban           Y  "
      ]
     },
     "execution_count": 18,
     "metadata": {},
     "output_type": "execute_result"
    }
   ],
   "source": [
    "df.head(1)"
   ]
  },
  {
   "cell_type": "code",
   "execution_count": 19,
   "id": "1b7e9845-5ae1-41cf-a340-f27223b2b63c",
   "metadata": {},
   "outputs": [
    {
     "data": {
      "text/plain": [
       "array([360., 120., 240.,  nan, 180.,  60., 300., 480.,  36.,  84.,  12.])"
      ]
     },
     "execution_count": 19,
     "metadata": {},
     "output_type": "execute_result"
    }
   ],
   "source": [
    "df[\"Loan_Amount_Term\"].unique()"
   ]
  },
  {
   "cell_type": "code",
   "execution_count": 20,
   "id": "8fa913ea-f5a3-40ba-ae1f-fd6a549bfed3",
   "metadata": {},
   "outputs": [
    {
     "data": {
      "text/plain": [
       "array([ 1.,  0., nan])"
      ]
     },
     "execution_count": 20,
     "metadata": {},
     "output_type": "execute_result"
    }
   ],
   "source": [
    "df[\"Credit_History\"].unique() \n",
    "#it is encoded as 0 = Bad and 1 = Good"
   ]
  },
  {
   "cell_type": "code",
   "execution_count": 21,
   "id": "ccf5c380-62a8-47b0-b0a7-1fb549053a38",
   "metadata": {},
   "outputs": [
    {
     "data": {
      "text/plain": [
       "array(['Urban', 'Rural', 'Semiurban'], dtype=object)"
      ]
     },
     "execution_count": 21,
     "metadata": {},
     "output_type": "execute_result"
    }
   ],
   "source": [
    "df[\"Property_Area\"].unique()"
   ]
  },
  {
   "cell_type": "code",
   "execution_count": 22,
   "id": "f5aaf959-dd97-4840-97b7-73d70ad1bab0",
   "metadata": {},
   "outputs": [
    {
     "data": {
      "text/plain": [
       "array(['Y', 'N'], dtype=object)"
      ]
     },
     "execution_count": 22,
     "metadata": {},
     "output_type": "execute_result"
    }
   ],
   "source": [
    "df[\"Loan_Status\"].unique()"
   ]
  },
  {
   "cell_type": "code",
   "execution_count": 23,
   "id": "799af044-e701-4a60-a705-279e38c4bbc9",
   "metadata": {},
   "outputs": [
    {
     "data": {
      "text/plain": [
       "Loan_ID                object\n",
       "Gender                 object\n",
       "Married                object\n",
       "Dependents             object\n",
       "Education              object\n",
       "Self_Employed          object\n",
       "Applicant_Income        int64\n",
       "Coapplicant_Income      int64\n",
       "Loan_Amount           float64\n",
       "Loan_Amount_Term      float64\n",
       "Credit_History        float64\n",
       "Property_Area          object\n",
       "Loan_Status            object\n",
       "dtype: object"
      ]
     },
     "execution_count": 23,
     "metadata": {},
     "output_type": "execute_result"
    }
   ],
   "source": [
    "df.dtypes"
   ]
  },
  {
   "cell_type": "markdown",
   "id": "dea85bbd-5615-48d4-9667-402bfccd391e",
   "metadata": {},
   "source": [
    "Dependents column has wrong data type due to wrong data.\n",
    "\n",
    "Loan_Amount has data type due to null values.    \n",
    "Loan_Amount_Term has data type due to null values.       "
   ]
  },
  {
   "cell_type": "code",
   "execution_count": 24,
   "id": "65aa5b0f-eb84-4f34-bf7b-26d97a7b4554",
   "metadata": {},
   "outputs": [
    {
     "data": {
      "text/html": [
       "<div>\n",
       "<style scoped>\n",
       "    .dataframe tbody tr th:only-of-type {\n",
       "        vertical-align: middle;\n",
       "    }\n",
       "\n",
       "    .dataframe tbody tr th {\n",
       "        vertical-align: top;\n",
       "    }\n",
       "\n",
       "    .dataframe thead th {\n",
       "        text-align: right;\n",
       "    }\n",
       "</style>\n",
       "<table border=\"1\" class=\"dataframe\">\n",
       "  <thead>\n",
       "    <tr style=\"text-align: right;\">\n",
       "      <th></th>\n",
       "      <th>Loan_ID</th>\n",
       "      <th>Gender</th>\n",
       "      <th>Married</th>\n",
       "      <th>Dependents</th>\n",
       "      <th>Education</th>\n",
       "      <th>Self_Employed</th>\n",
       "      <th>Applicant_Income</th>\n",
       "      <th>Coapplicant_Income</th>\n",
       "      <th>Loan_Amount</th>\n",
       "      <th>Loan_Amount_Term</th>\n",
       "      <th>Credit_History</th>\n",
       "      <th>Property_Area</th>\n",
       "      <th>Loan_Status</th>\n",
       "    </tr>\n",
       "  </thead>\n",
       "  <tbody>\n",
       "    <tr>\n",
       "      <th>122</th>\n",
       "      <td>LP001431</td>\n",
       "      <td>Female</td>\n",
       "      <td>No</td>\n",
       "      <td>0</td>\n",
       "      <td>Graduate</td>\n",
       "      <td>No</td>\n",
       "      <td>2137</td>\n",
       "      <td>8980</td>\n",
       "      <td>137.0</td>\n",
       "      <td>360.0</td>\n",
       "      <td>Bad</td>\n",
       "      <td>Semiurban</td>\n",
       "      <td>Y</td>\n",
       "    </tr>\n",
       "    <tr>\n",
       "      <th>155</th>\n",
       "      <td>LP001536</td>\n",
       "      <td>Male</td>\n",
       "      <td>Yes</td>\n",
       "      <td>3+</td>\n",
       "      <td>Graduate</td>\n",
       "      <td>No</td>\n",
       "      <td>39999</td>\n",
       "      <td>0</td>\n",
       "      <td>600.0</td>\n",
       "      <td>180.0</td>\n",
       "      <td>Bad</td>\n",
       "      <td>Semiurban</td>\n",
       "      <td>Y</td>\n",
       "    </tr>\n",
       "    <tr>\n",
       "      <th>201</th>\n",
       "      <td>LP001677</td>\n",
       "      <td>Male</td>\n",
       "      <td>No</td>\n",
       "      <td>2</td>\n",
       "      <td>Graduate</td>\n",
       "      <td>No</td>\n",
       "      <td>4923</td>\n",
       "      <td>0</td>\n",
       "      <td>166.0</td>\n",
       "      <td>360.0</td>\n",
       "      <td>Bad</td>\n",
       "      <td>Semiurban</td>\n",
       "      <td>Y</td>\n",
       "    </tr>\n",
       "    <tr>\n",
       "      <th>267</th>\n",
       "      <td>LP001882</td>\n",
       "      <td>Male</td>\n",
       "      <td>Yes</td>\n",
       "      <td>3+</td>\n",
       "      <td>Graduate</td>\n",
       "      <td>No</td>\n",
       "      <td>4333</td>\n",
       "      <td>1811</td>\n",
       "      <td>160.0</td>\n",
       "      <td>360.0</td>\n",
       "      <td>Bad</td>\n",
       "      <td>Urban</td>\n",
       "      <td>Y</td>\n",
       "    </tr>\n",
       "    <tr>\n",
       "      <th>326</th>\n",
       "      <td>LP002068</td>\n",
       "      <td>Male</td>\n",
       "      <td>No</td>\n",
       "      <td>0</td>\n",
       "      <td>Graduate</td>\n",
       "      <td>No</td>\n",
       "      <td>4917</td>\n",
       "      <td>0</td>\n",
       "      <td>130.0</td>\n",
       "      <td>360.0</td>\n",
       "      <td>Bad</td>\n",
       "      <td>Rural</td>\n",
       "      <td>Y</td>\n",
       "    </tr>\n",
       "    <tr>\n",
       "      <th>453</th>\n",
       "      <td>LP002449</td>\n",
       "      <td>Male</td>\n",
       "      <td>Yes</td>\n",
       "      <td>0</td>\n",
       "      <td>Graduate</td>\n",
       "      <td>No</td>\n",
       "      <td>2483</td>\n",
       "      <td>2466</td>\n",
       "      <td>90.0</td>\n",
       "      <td>180.0</td>\n",
       "      <td>Bad</td>\n",
       "      <td>Rural</td>\n",
       "      <td>Y</td>\n",
       "    </tr>\n",
       "    <tr>\n",
       "      <th>527</th>\n",
       "      <td>LP002706</td>\n",
       "      <td>Male</td>\n",
       "      <td>Yes</td>\n",
       "      <td>1</td>\n",
       "      <td>Not Graduate</td>\n",
       "      <td>No</td>\n",
       "      <td>5285</td>\n",
       "      <td>1430</td>\n",
       "      <td>161.0</td>\n",
       "      <td>360.0</td>\n",
       "      <td>Bad</td>\n",
       "      <td>Semiurban</td>\n",
       "      <td>Y</td>\n",
       "    </tr>\n",
       "  </tbody>\n",
       "</table>\n",
       "</div>"
      ],
      "text/plain": [
       "      Loan_ID  Gender Married Dependents     Education Self_Employed  \\\n",
       "122  LP001431  Female      No          0      Graduate            No   \n",
       "155  LP001536    Male     Yes         3+      Graduate            No   \n",
       "201  LP001677    Male      No          2      Graduate            No   \n",
       "267  LP001882    Male     Yes         3+      Graduate            No   \n",
       "326  LP002068    Male      No          0      Graduate            No   \n",
       "453  LP002449    Male     Yes          0      Graduate            No   \n",
       "527  LP002706    Male     Yes          1  Not Graduate            No   \n",
       "\n",
       "     Applicant_Income  Coapplicant_Income  Loan_Amount  Loan_Amount_Term  \\\n",
       "122              2137                8980        137.0             360.0   \n",
       "155             39999                   0        600.0             180.0   \n",
       "201              4923                   0        166.0             360.0   \n",
       "267              4333                1811        160.0             360.0   \n",
       "326              4917                   0        130.0             360.0   \n",
       "453              2483                2466         90.0             180.0   \n",
       "527              5285                1430        161.0             360.0   \n",
       "\n",
       "    Credit_History Property_Area Loan_Status  \n",
       "122            Bad     Semiurban           Y  \n",
       "155            Bad     Semiurban           Y  \n",
       "201            Bad     Semiurban           Y  \n",
       "267            Bad         Urban           Y  \n",
       "326            Bad         Rural           Y  \n",
       "453            Bad         Rural           Y  \n",
       "527            Bad     Semiurban           Y  "
      ]
     },
     "execution_count": 24,
     "metadata": {},
     "output_type": "execute_result"
    }
   ],
   "source": [
    "df[\"Credit_History\"] = df[\"Credit_History\"].replace({0:\"Bad\",1:\"Good\"})\n",
    "df[(df[\"Credit_History\"] == \"Bad\") & (df[\"Loan_Status\"]==\"Y\")]\n",
    "# There are 7 no.of applications with bad Credit history but loan status as Yes "
   ]
  },
  {
   "cell_type": "code",
   "execution_count": 25,
   "id": "43b59e84-8c2f-425c-996c-58f1521d00f5",
   "metadata": {},
   "outputs": [
    {
     "data": {
      "text/html": [
       "<div>\n",
       "<style scoped>\n",
       "    .dataframe tbody tr th:only-of-type {\n",
       "        vertical-align: middle;\n",
       "    }\n",
       "\n",
       "    .dataframe tbody tr th {\n",
       "        vertical-align: top;\n",
       "    }\n",
       "\n",
       "    .dataframe thead th {\n",
       "        text-align: right;\n",
       "    }\n",
       "</style>\n",
       "<table border=\"1\" class=\"dataframe\">\n",
       "  <thead>\n",
       "    <tr style=\"text-align: right;\">\n",
       "      <th></th>\n",
       "      <th>Loan_ID</th>\n",
       "      <th>Gender</th>\n",
       "      <th>Married</th>\n",
       "      <th>Dependents</th>\n",
       "      <th>Education</th>\n",
       "      <th>Self_Employed</th>\n",
       "      <th>Applicant_Income</th>\n",
       "      <th>Coapplicant_Income</th>\n",
       "      <th>Loan_Amount</th>\n",
       "      <th>Loan_Amount_Term</th>\n",
       "      <th>Credit_History</th>\n",
       "      <th>Property_Area</th>\n",
       "      <th>Loan_Status</th>\n",
       "    </tr>\n",
       "  </thead>\n",
       "  <tbody>\n",
       "    <tr>\n",
       "      <th>7</th>\n",
       "      <td>LP001014</td>\n",
       "      <td>Male</td>\n",
       "      <td>Yes</td>\n",
       "      <td>3+</td>\n",
       "      <td>Graduate</td>\n",
       "      <td>No</td>\n",
       "      <td>3036</td>\n",
       "      <td>2504</td>\n",
       "      <td>158.0</td>\n",
       "      <td>360.0</td>\n",
       "      <td>Bad</td>\n",
       "      <td>Semiurban</td>\n",
       "      <td>N</td>\n",
       "    </tr>\n",
       "    <tr>\n",
       "      <th>17</th>\n",
       "      <td>LP001036</td>\n",
       "      <td>Female</td>\n",
       "      <td>No</td>\n",
       "      <td>0</td>\n",
       "      <td>Graduate</td>\n",
       "      <td>No</td>\n",
       "      <td>3510</td>\n",
       "      <td>0</td>\n",
       "      <td>76.0</td>\n",
       "      <td>360.0</td>\n",
       "      <td>Bad</td>\n",
       "      <td>Urban</td>\n",
       "      <td>N</td>\n",
       "    </tr>\n",
       "    <tr>\n",
       "      <th>20</th>\n",
       "      <td>LP001043</td>\n",
       "      <td>Male</td>\n",
       "      <td>Yes</td>\n",
       "      <td>0</td>\n",
       "      <td>Not Graduate</td>\n",
       "      <td>No</td>\n",
       "      <td>7660</td>\n",
       "      <td>0</td>\n",
       "      <td>104.0</td>\n",
       "      <td>360.0</td>\n",
       "      <td>Bad</td>\n",
       "      <td>Urban</td>\n",
       "      <td>N</td>\n",
       "    </tr>\n",
       "    <tr>\n",
       "      <th>22</th>\n",
       "      <td>LP001047</td>\n",
       "      <td>Male</td>\n",
       "      <td>Yes</td>\n",
       "      <td>0</td>\n",
       "      <td>Not Graduate</td>\n",
       "      <td>No</td>\n",
       "      <td>2600</td>\n",
       "      <td>1911</td>\n",
       "      <td>116.0</td>\n",
       "      <td>360.0</td>\n",
       "      <td>Bad</td>\n",
       "      <td>Semiurban</td>\n",
       "      <td>N</td>\n",
       "    </tr>\n",
       "    <tr>\n",
       "      <th>23</th>\n",
       "      <td>LP001050</td>\n",
       "      <td>NaN</td>\n",
       "      <td>Yes</td>\n",
       "      <td>2</td>\n",
       "      <td>Not Graduate</td>\n",
       "      <td>No</td>\n",
       "      <td>3365</td>\n",
       "      <td>1917</td>\n",
       "      <td>112.0</td>\n",
       "      <td>360.0</td>\n",
       "      <td>Bad</td>\n",
       "      <td>Rural</td>\n",
       "      <td>N</td>\n",
       "    </tr>\n",
       "    <tr>\n",
       "      <th>...</th>\n",
       "      <td>...</td>\n",
       "      <td>...</td>\n",
       "      <td>...</td>\n",
       "      <td>...</td>\n",
       "      <td>...</td>\n",
       "      <td>...</td>\n",
       "      <td>...</td>\n",
       "      <td>...</td>\n",
       "      <td>...</td>\n",
       "      <td>...</td>\n",
       "      <td>...</td>\n",
       "      <td>...</td>\n",
       "      <td>...</td>\n",
       "    </tr>\n",
       "    <tr>\n",
       "      <th>576</th>\n",
       "      <td>LP002872</td>\n",
       "      <td>NaN</td>\n",
       "      <td>Yes</td>\n",
       "      <td>0</td>\n",
       "      <td>Graduate</td>\n",
       "      <td>No</td>\n",
       "      <td>3087</td>\n",
       "      <td>2210</td>\n",
       "      <td>136.0</td>\n",
       "      <td>360.0</td>\n",
       "      <td>Bad</td>\n",
       "      <td>Semiurban</td>\n",
       "      <td>N</td>\n",
       "    </tr>\n",
       "    <tr>\n",
       "      <th>584</th>\n",
       "      <td>LP002911</td>\n",
       "      <td>Male</td>\n",
       "      <td>Yes</td>\n",
       "      <td>1</td>\n",
       "      <td>Graduate</td>\n",
       "      <td>No</td>\n",
       "      <td>2787</td>\n",
       "      <td>1917</td>\n",
       "      <td>146.0</td>\n",
       "      <td>360.0</td>\n",
       "      <td>Bad</td>\n",
       "      <td>Rural</td>\n",
       "      <td>N</td>\n",
       "    </tr>\n",
       "    <tr>\n",
       "      <th>589</th>\n",
       "      <td>LP002926</td>\n",
       "      <td>Male</td>\n",
       "      <td>Yes</td>\n",
       "      <td>2</td>\n",
       "      <td>Graduate</td>\n",
       "      <td>Yes</td>\n",
       "      <td>2726</td>\n",
       "      <td>0</td>\n",
       "      <td>106.0</td>\n",
       "      <td>360.0</td>\n",
       "      <td>Bad</td>\n",
       "      <td>Semiurban</td>\n",
       "      <td>N</td>\n",
       "    </tr>\n",
       "    <tr>\n",
       "      <th>597</th>\n",
       "      <td>LP002943</td>\n",
       "      <td>Male</td>\n",
       "      <td>No</td>\n",
       "      <td>NaN</td>\n",
       "      <td>Graduate</td>\n",
       "      <td>No</td>\n",
       "      <td>2987</td>\n",
       "      <td>0</td>\n",
       "      <td>88.0</td>\n",
       "      <td>360.0</td>\n",
       "      <td>Bad</td>\n",
       "      <td>Semiurban</td>\n",
       "      <td>N</td>\n",
       "    </tr>\n",
       "    <tr>\n",
       "      <th>613</th>\n",
       "      <td>LP002990</td>\n",
       "      <td>Female</td>\n",
       "      <td>No</td>\n",
       "      <td>0</td>\n",
       "      <td>Graduate</td>\n",
       "      <td>Yes</td>\n",
       "      <td>4583</td>\n",
       "      <td>0</td>\n",
       "      <td>133.0</td>\n",
       "      <td>360.0</td>\n",
       "      <td>Bad</td>\n",
       "      <td>Semiurban</td>\n",
       "      <td>N</td>\n",
       "    </tr>\n",
       "  </tbody>\n",
       "</table>\n",
       "<p>82 rows × 13 columns</p>\n",
       "</div>"
      ],
      "text/plain": [
       "      Loan_ID  Gender Married Dependents     Education Self_Employed  \\\n",
       "7    LP001014    Male     Yes         3+      Graduate            No   \n",
       "17   LP001036  Female      No          0      Graduate            No   \n",
       "20   LP001043    Male     Yes          0  Not Graduate            No   \n",
       "22   LP001047    Male     Yes          0  Not Graduate            No   \n",
       "23   LP001050     NaN     Yes          2  Not Graduate            No   \n",
       "..        ...     ...     ...        ...           ...           ...   \n",
       "576  LP002872     NaN     Yes          0      Graduate            No   \n",
       "584  LP002911    Male     Yes          1      Graduate            No   \n",
       "589  LP002926    Male     Yes          2      Graduate           Yes   \n",
       "597  LP002943    Male      No        NaN      Graduate            No   \n",
       "613  LP002990  Female      No          0      Graduate           Yes   \n",
       "\n",
       "     Applicant_Income  Coapplicant_Income  Loan_Amount  Loan_Amount_Term  \\\n",
       "7                3036                2504        158.0             360.0   \n",
       "17               3510                   0         76.0             360.0   \n",
       "20               7660                   0        104.0             360.0   \n",
       "22               2600                1911        116.0             360.0   \n",
       "23               3365                1917        112.0             360.0   \n",
       "..                ...                 ...          ...               ...   \n",
       "576              3087                2210        136.0             360.0   \n",
       "584              2787                1917        146.0             360.0   \n",
       "589              2726                   0        106.0             360.0   \n",
       "597              2987                   0         88.0             360.0   \n",
       "613              4583                   0        133.0             360.0   \n",
       "\n",
       "    Credit_History Property_Area Loan_Status  \n",
       "7              Bad     Semiurban           N  \n",
       "17             Bad         Urban           N  \n",
       "20             Bad         Urban           N  \n",
       "22             Bad     Semiurban           N  \n",
       "23             Bad         Rural           N  \n",
       "..             ...           ...         ...  \n",
       "576            Bad     Semiurban           N  \n",
       "584            Bad         Rural           N  \n",
       "589            Bad     Semiurban           N  \n",
       "597            Bad     Semiurban           N  \n",
       "613            Bad     Semiurban           N  \n",
       "\n",
       "[82 rows x 13 columns]"
      ]
     },
     "execution_count": 25,
     "metadata": {},
     "output_type": "execute_result"
    }
   ],
   "source": [
    "df[(df[\"Credit_History\"] == \"Bad\") & (df[\"Loan_Status\"]==\"N\")]\n",
    "# There are 82 no.of applications with bad Credit history but loan status as Yes"
   ]
  },
  {
   "cell_type": "code",
   "execution_count": 26,
   "id": "86e6bd8c-6a74-4152-8b96-76e5df579089",
   "metadata": {},
   "outputs": [
    {
     "data": {
      "text/plain": [
       "Loan_ID                0\n",
       "Gender                13\n",
       "Married                3\n",
       "Dependents            15\n",
       "Education              0\n",
       "Self_Employed         32\n",
       "Applicant_Income       0\n",
       "Coapplicant_Income     0\n",
       "Loan_Amount           22\n",
       "Loan_Amount_Term      14\n",
       "Credit_History        50\n",
       "Property_Area          0\n",
       "Loan_Status            0\n",
       "dtype: int64"
      ]
     },
     "execution_count": 26,
     "metadata": {},
     "output_type": "execute_result"
    }
   ],
   "source": [
    "df.isnull().sum()"
   ]
  },
  {
   "cell_type": "code",
   "execution_count": 27,
   "id": "02f5e117-c8af-45cb-9faa-6f2e3a6154d0",
   "metadata": {},
   "outputs": [
    {
     "name": "stdout",
     "output_type": "stream",
     "text": [
      "<class 'pandas.core.frame.DataFrame'>\n",
      "RangeIndex: 614 entries, 0 to 613\n",
      "Data columns (total 13 columns):\n",
      " #   Column              Non-Null Count  Dtype  \n",
      "---  ------              --------------  -----  \n",
      " 0   Loan_ID             614 non-null    object \n",
      " 1   Gender              601 non-null    object \n",
      " 2   Married             611 non-null    object \n",
      " 3   Dependents          599 non-null    object \n",
      " 4   Education           614 non-null    object \n",
      " 5   Self_Employed       582 non-null    object \n",
      " 6   Applicant_Income    614 non-null    int64  \n",
      " 7   Coapplicant_Income  614 non-null    int64  \n",
      " 8   Loan_Amount         592 non-null    float64\n",
      " 9   Loan_Amount_Term    600 non-null    float64\n",
      " 10  Credit_History      564 non-null    object \n",
      " 11  Property_Area       614 non-null    object \n",
      " 12  Loan_Status         614 non-null    object \n",
      "dtypes: float64(2), int64(2), object(9)\n",
      "memory usage: 62.5+ KB\n"
     ]
    }
   ],
   "source": [
    "df.info()"
   ]
  },
  {
   "cell_type": "code",
   "execution_count": 28,
   "id": "61c936de-3b12-41eb-ae07-24c4b0a7c392",
   "metadata": {},
   "outputs": [],
   "source": [
    "continuous = [\"Applicant_Income\",\"Coapplicant_Income\",\"Loan_Amount\"]\n",
    "\n",
    "categorical = [\"Gender\",\"Married\",\"Education\",\"Self_Employed\",\"Credit_History\",\"Property_Area\",\"Loan_Status\"]\n",
    "\n",
    "count = [\"Dependents\",\"Loan_Amount_Term\"]"
   ]
  },
  {
   "cell_type": "code",
   "execution_count": 29,
   "id": "4aaada97-6e64-451d-9078-756008523f27",
   "metadata": {},
   "outputs": [
    {
     "data": {
      "text/html": [
       "<div>\n",
       "<style scoped>\n",
       "    .dataframe tbody tr th:only-of-type {\n",
       "        vertical-align: middle;\n",
       "    }\n",
       "\n",
       "    .dataframe tbody tr th {\n",
       "        vertical-align: top;\n",
       "    }\n",
       "\n",
       "    .dataframe thead th {\n",
       "        text-align: right;\n",
       "    }\n",
       "</style>\n",
       "<table border=\"1\" class=\"dataframe\">\n",
       "  <thead>\n",
       "    <tr style=\"text-align: right;\">\n",
       "      <th></th>\n",
       "      <th>Applicant_Income</th>\n",
       "      <th>Coapplicant_Income</th>\n",
       "      <th>Loan_Amount</th>\n",
       "    </tr>\n",
       "  </thead>\n",
       "  <tbody>\n",
       "    <tr>\n",
       "      <th>count</th>\n",
       "      <td>614.000000</td>\n",
       "      <td>614.00000</td>\n",
       "      <td>592.000000</td>\n",
       "    </tr>\n",
       "    <tr>\n",
       "      <th>mean</th>\n",
       "      <td>5403.459283</td>\n",
       "      <td>1621.24430</td>\n",
       "      <td>146.412162</td>\n",
       "    </tr>\n",
       "    <tr>\n",
       "      <th>std</th>\n",
       "      <td>6109.041673</td>\n",
       "      <td>2926.24876</td>\n",
       "      <td>85.587325</td>\n",
       "    </tr>\n",
       "    <tr>\n",
       "      <th>min</th>\n",
       "      <td>150.000000</td>\n",
       "      <td>0.00000</td>\n",
       "      <td>9.000000</td>\n",
       "    </tr>\n",
       "    <tr>\n",
       "      <th>25%</th>\n",
       "      <td>2877.500000</td>\n",
       "      <td>0.00000</td>\n",
       "      <td>100.000000</td>\n",
       "    </tr>\n",
       "    <tr>\n",
       "      <th>50%</th>\n",
       "      <td>3812.500000</td>\n",
       "      <td>1188.50000</td>\n",
       "      <td>128.000000</td>\n",
       "    </tr>\n",
       "    <tr>\n",
       "      <th>75%</th>\n",
       "      <td>5795.000000</td>\n",
       "      <td>2297.25000</td>\n",
       "      <td>168.000000</td>\n",
       "    </tr>\n",
       "    <tr>\n",
       "      <th>max</th>\n",
       "      <td>81000.000000</td>\n",
       "      <td>41667.00000</td>\n",
       "      <td>700.000000</td>\n",
       "    </tr>\n",
       "  </tbody>\n",
       "</table>\n",
       "</div>"
      ],
      "text/plain": [
       "       Applicant_Income  Coapplicant_Income  Loan_Amount\n",
       "count        614.000000           614.00000   592.000000\n",
       "mean        5403.459283          1621.24430   146.412162\n",
       "std         6109.041673          2926.24876    85.587325\n",
       "min          150.000000             0.00000     9.000000\n",
       "25%         2877.500000             0.00000   100.000000\n",
       "50%         3812.500000          1188.50000   128.000000\n",
       "75%         5795.000000          2297.25000   168.000000\n",
       "max        81000.000000         41667.00000   700.000000"
      ]
     },
     "execution_count": 29,
     "metadata": {},
     "output_type": "execute_result"
    }
   ],
   "source": [
    "df[continuous].describe()"
   ]
  },
  {
   "cell_type": "code",
   "execution_count": 30,
   "id": "4589b1bd-8d1f-451a-9727-a621b933ffc8",
   "metadata": {},
   "outputs": [
    {
     "data": {
      "text/html": [
       "<div>\n",
       "<style scoped>\n",
       "    .dataframe tbody tr th:only-of-type {\n",
       "        vertical-align: middle;\n",
       "    }\n",
       "\n",
       "    .dataframe tbody tr th {\n",
       "        vertical-align: top;\n",
       "    }\n",
       "\n",
       "    .dataframe thead th {\n",
       "        text-align: right;\n",
       "    }\n",
       "</style>\n",
       "<table border=\"1\" class=\"dataframe\">\n",
       "  <thead>\n",
       "    <tr style=\"text-align: right;\">\n",
       "      <th></th>\n",
       "      <th>Gender</th>\n",
       "      <th>Married</th>\n",
       "      <th>Education</th>\n",
       "      <th>Self_Employed</th>\n",
       "      <th>Credit_History</th>\n",
       "      <th>Property_Area</th>\n",
       "      <th>Loan_Status</th>\n",
       "    </tr>\n",
       "  </thead>\n",
       "  <tbody>\n",
       "    <tr>\n",
       "      <th>count</th>\n",
       "      <td>601</td>\n",
       "      <td>611</td>\n",
       "      <td>614</td>\n",
       "      <td>582</td>\n",
       "      <td>564</td>\n",
       "      <td>614</td>\n",
       "      <td>614</td>\n",
       "    </tr>\n",
       "    <tr>\n",
       "      <th>unique</th>\n",
       "      <td>2</td>\n",
       "      <td>2</td>\n",
       "      <td>2</td>\n",
       "      <td>2</td>\n",
       "      <td>2</td>\n",
       "      <td>3</td>\n",
       "      <td>2</td>\n",
       "    </tr>\n",
       "    <tr>\n",
       "      <th>top</th>\n",
       "      <td>Male</td>\n",
       "      <td>Yes</td>\n",
       "      <td>Graduate</td>\n",
       "      <td>No</td>\n",
       "      <td>Good</td>\n",
       "      <td>Semiurban</td>\n",
       "      <td>Y</td>\n",
       "    </tr>\n",
       "    <tr>\n",
       "      <th>freq</th>\n",
       "      <td>489</td>\n",
       "      <td>398</td>\n",
       "      <td>480</td>\n",
       "      <td>500</td>\n",
       "      <td>475</td>\n",
       "      <td>233</td>\n",
       "      <td>422</td>\n",
       "    </tr>\n",
       "  </tbody>\n",
       "</table>\n",
       "</div>"
      ],
      "text/plain": [
       "       Gender Married Education Self_Employed Credit_History Property_Area  \\\n",
       "count     601     611       614           582            564           614   \n",
       "unique      2       2         2             2              2             3   \n",
       "top      Male     Yes  Graduate            No           Good     Semiurban   \n",
       "freq      489     398       480           500            475           233   \n",
       "\n",
       "       Loan_Status  \n",
       "count          614  \n",
       "unique           2  \n",
       "top              Y  \n",
       "freq           422  "
      ]
     },
     "execution_count": 30,
     "metadata": {},
     "output_type": "execute_result"
    }
   ],
   "source": [
    "df[categorical].describe()"
   ]
  },
  {
   "cell_type": "code",
   "execution_count": 31,
   "id": "6d0c3fc3-e006-4d79-8914-b3f2248ea2d2",
   "metadata": {},
   "outputs": [
    {
     "name": "stdout",
     "output_type": "stream",
     "text": [
      "There are 0 duplicate records in the data frame\n"
     ]
    }
   ],
   "source": [
    "print(\"There are\",df.duplicated().sum(),\"duplicate records in the data frame\")"
   ]
  },
  {
   "cell_type": "code",
   "execution_count": 32,
   "id": "a3f489d4-0014-49b5-b858-9a8eab75f8ba",
   "metadata": {},
   "outputs": [
    {
     "data": {
      "image/png": "[encoded data removed]",
      "text/plain": [
       "<Figure size 640x480 with 1 Axes>"
      ]
     },
     "metadata": {},
     "output_type": "display_data"
    },
    {
     "data": {
      "image/png": "[encoded data removed]",
      "text/plain": [
       "<Figure size 640x480 with 1 Axes>"
      ]
     },
     "metadata": {},
     "output_type": "display_data"
    },
    {
     "data": {
      "image/png": "[encoded data removed]",
      "text/plain": [
       "<Figure size 640x480 with 1 Axes>"
      ]
     },
     "metadata": {},
     "output_type": "display_data"
    }
   ],
   "source": [
    "# Checking for OUTLIERS in continuous variables\n",
    "# These are outliers but genuine values \n",
    "# Hence we retain them instead of removing.\n",
    "for i in continuous:\n",
    "    sns.boxplot(df[i])\n",
    "    plt.show()"
   ]
  },
  {
   "cell_type": "markdown",
   "id": "36bb6015-cb51-4b24-a76a-16e9bfc1bbb9",
   "metadata": {},
   "source": [
    "# High-income and high-loan applicants are genuine values, hence retained. For better visualization, log transformation was applied."
   ]
  },
  {
   "cell_type": "code",
   "execution_count": 33,
   "id": "19e88eef-436c-4ab9-a5fa-01071ff59328",
   "metadata": {},
   "outputs": [
    {
     "data": {
      "text/plain": [
       "Applicant_Income      6.539513\n",
       "Coapplicant_Income    7.491530\n",
       "Loan_Amount           2.677552\n",
       "dtype: float64"
      ]
     },
     "execution_count": 33,
     "metadata": {},
     "output_type": "execute_result"
    }
   ],
   "source": [
    "df[continuous].skew()"
   ]
  },
  {
   "cell_type": "markdown",
   "id": "e51f5cde-8208-47ab-b431-a4d1a1607757",
   "metadata": {},
   "source": [
    "# Transform"
   ]
  },
  {
   "cell_type": "code",
   "execution_count": 34,
   "id": "16e07481-627b-4ad7-a553-06a26c6c82a6",
   "metadata": {},
   "outputs": [],
   "source": [
    "# Data Cleaning\n",
    "df[\"Dependents\"] = df[\"Dependents\"].replace({\"3+\":3})"
   ]
  },
  {
   "cell_type": "code",
   "execution_count": 35,
   "id": "72e59a8c-a675-4166-956f-fcf80bd53cf0",
   "metadata": {},
   "outputs": [
    {
     "data": {
      "text/plain": [
       "array(['0', '1', '2', 3, nan], dtype=object)"
      ]
     },
     "execution_count": 35,
     "metadata": {},
     "output_type": "execute_result"
    }
   ],
   "source": [
    "df[\"Dependents\"].unique()"
   ]
  },
  {
   "cell_type": "code",
   "execution_count": 36,
   "id": "fe69f531-7180-4dd2-b43f-91fd5b83a7a5",
   "metadata": {},
   "outputs": [
    {
     "data": {
      "text/plain": [
       "['Gender',\n",
       " 'Married',\n",
       " 'Education',\n",
       " 'Self_Employed',\n",
       " 'Credit_History',\n",
       " 'Property_Area',\n",
       " 'Loan_Status']"
      ]
     },
     "execution_count": 36,
     "metadata": {},
     "output_type": "execute_result"
    }
   ],
   "source": [
    "categorical"
   ]
  },
  {
   "cell_type": "code",
   "execution_count": 38,
   "id": "a1cf2bd7-d476-4381-bf70-069f9d48791e",
   "metadata": {},
   "outputs": [],
   "source": [
    "df[\"Gender\"] = df[\"Gender\"].fillna(df[\"Gender\"].mode()[0])"
   ]
  },
  {
   "cell_type": "code",
   "execution_count": 39,
   "id": "f0b4f2be-1dc7-4436-9fc2-c6fd952ea50d",
   "metadata": {},
   "outputs": [],
   "source": [
    "df[\"Married\"] = df[\"Married\"].fillna(df[\"Married\"].mode()[0])"
   ]
  },
  {
   "cell_type": "code",
   "execution_count": 40,
   "id": "19b318e2-bd07-4141-a42e-db67266a55ad",
   "metadata": {},
   "outputs": [],
   "source": [
    "df[\"Self_Employed\"] = df[\"Self_Employed\"].fillna(df[\"Self_Employed\"].mode()[0])"
   ]
  },
  {
   "cell_type": "code",
   "execution_count": 41,
   "id": "da7c7ba9-5a20-414f-9c27-d3e0c71f900b",
   "metadata": {},
   "outputs": [
    {
     "data": {
      "text/plain": [
       "np.int64(0)"
      ]
     },
     "execution_count": 41,
     "metadata": {},
     "output_type": "execute_result"
    }
   ],
   "source": [
    "df[\"Self_Employed\"].isnull().sum()"
   ]
  },
  {
   "cell_type": "code",
   "execution_count": 42,
   "id": "e5641b53-71c3-4cb8-9037-5bf525867323",
   "metadata": {
    "scrolled": true
   },
   "outputs": [
    {
     "data": {
      "text/plain": [
       "Loan_ID                0\n",
       "Gender                 0\n",
       "Married                0\n",
       "Dependents            15\n",
       "Education              0\n",
       "Self_Employed          0\n",
       "Applicant_Income       0\n",
       "Coapplicant_Income     0\n",
       "Loan_Amount           22\n",
       "Loan_Amount_Term      14\n",
       "Credit_History        50\n",
       "Property_Area          0\n",
       "Loan_Status            0\n",
       "dtype: int64"
      ]
     },
     "execution_count": 42,
     "metadata": {},
     "output_type": "execute_result"
    }
   ],
   "source": [
    "df.isnull().sum()"
   ]
  },
  {
   "cell_type": "code",
   "execution_count": 43,
   "id": "ceaafb7e-8267-472d-9cc0-681506bc2eaa",
   "metadata": {},
   "outputs": [],
   "source": [
    "df = df.dropna(subset=\"Loan_Amount\")\n",
    "# Dropped records which in which Loan Amount is null "
   ]
  },
  {
   "cell_type": "code",
   "execution_count": 44,
   "id": "cdbf1fbb-8f37-47fb-a743-0f40b5b9e1ba",
   "metadata": {},
   "outputs": [
    {
     "data": {
      "text/plain": [
       "Loan_ID                0\n",
       "Gender                 0\n",
       "Married                0\n",
       "Dependents            13\n",
       "Education              0\n",
       "Self_Employed          0\n",
       "Applicant_Income       0\n",
       "Coapplicant_Income     0\n",
       "Loan_Amount            0\n",
       "Loan_Amount_Term      14\n",
       "Credit_History        49\n",
       "Property_Area          0\n",
       "Loan_Status            0\n",
       "dtype: int64"
      ]
     },
     "execution_count": 44,
     "metadata": {},
     "output_type": "execute_result"
    }
   ],
   "source": [
    "df.isnull().sum()"
   ]
  },
  {
   "cell_type": "code",
   "execution_count": 45,
   "id": "6b23be02-a322-4802-b7ab-ed22fa6e2f43",
   "metadata": {},
   "outputs": [
    {
     "data": {
      "text/plain": [
       "Dependents\n",
       "0      334\n",
       "1       98\n",
       "2       98\n",
       "3       49\n",
       "NaN     13\n",
       "Name: count, dtype: int64"
      ]
     },
     "execution_count": 45,
     "metadata": {},
     "output_type": "execute_result"
    }
   ],
   "source": [
    "df['Dependents'].value_counts(dropna=False)"
   ]
  },
  {
   "cell_type": "markdown",
   "id": "2654ae3a-1685-469d-b6f3-6da1d4bab50a",
   "metadata": {},
   "source": [
    "Since most dependents are \"0\", we replace null values with 0."
   ]
  },
  {
   "cell_type": "code",
   "execution_count": 46,
   "id": "37487f47-1757-4c38-8d85-984220625f4f",
   "metadata": {},
   "outputs": [
    {
     "data": {
      "text/plain": [
       "'0'"
      ]
     },
     "execution_count": 46,
     "metadata": {},
     "output_type": "execute_result"
    }
   ],
   "source": [
    "df['Dependents'].mode()[0]"
   ]
  },
  {
   "cell_type": "code",
   "execution_count": 47,
   "id": "ee7c7c57-329c-4390-a0a0-5983c7f96ebc",
   "metadata": {},
   "outputs": [],
   "source": [
    "df['Dependents'] = df['Dependents'].fillna(df['Dependents'].mode()[0])"
   ]
  },
  {
   "cell_type": "code",
   "execution_count": 48,
   "id": "ca044d90-fe54-4886-a4da-f29732be9610",
   "metadata": {
    "scrolled": true
   },
   "outputs": [
    {
     "data": {
      "text/plain": [
       "Loan_ID                0\n",
       "Gender                 0\n",
       "Married                0\n",
       "Dependents             0\n",
       "Education              0\n",
       "Self_Employed          0\n",
       "Applicant_Income       0\n",
       "Coapplicant_Income     0\n",
       "Loan_Amount            0\n",
       "Loan_Amount_Term      14\n",
       "Credit_History        49\n",
       "Property_Area          0\n",
       "Loan_Status            0\n",
       "dtype: int64"
      ]
     },
     "execution_count": 48,
     "metadata": {},
     "output_type": "execute_result"
    }
   ],
   "source": [
    "df.isnull().sum()"
   ]
  },
  {
   "cell_type": "code",
   "execution_count": 51,
   "id": "8a40ed32-76d7-42fc-b34c-61f7d2aad169",
   "metadata": {},
   "outputs": [],
   "source": [
    "df[\"Dependents\"] = df[\"Dependents\"].astype(int)"
   ]
  },
  {
   "cell_type": "code",
   "execution_count": 53,
   "id": "2db7bf7f-7474-4e95-a694-a4956f741565",
   "metadata": {},
   "outputs": [
    {
     "data": {
      "text/plain": [
       "Loan_ID                0\n",
       "Gender                 0\n",
       "Married                0\n",
       "Dependents             0\n",
       "Education              0\n",
       "Self_Employed          0\n",
       "Applicant_Income       0\n",
       "Coapplicant_Income     0\n",
       "Loan_Amount            0\n",
       "Loan_Amount_Term      14\n",
       "Credit_History        49\n",
       "Property_Area          0\n",
       "Loan_Status            0\n",
       "dtype: int64"
      ]
     },
     "execution_count": 53,
     "metadata": {},
     "output_type": "execute_result"
    }
   ],
   "source": [
    "df.isnull().sum()"
   ]
  },
  {
   "cell_type": "code",
   "execution_count": 54,
   "id": "4976d58a-827a-4c4a-8797-0b40bcfd2fe4",
   "metadata": {},
   "outputs": [
    {
     "data": {
      "text/plain": [
       "Credit_History\n",
       "Good    458\n",
       "Bad      85\n",
       "NaN      49\n",
       "Name: count, dtype: int64"
      ]
     },
     "execution_count": 54,
     "metadata": {},
     "output_type": "execute_result"
    }
   ],
   "source": [
    "df['Credit_History'].value_counts(dropna=False)"
   ]
  },
  {
   "cell_type": "markdown",
   "id": "25f83b97-e8b3-4d76-8c12-525861794a95",
   "metadata": {},
   "source": [
    "# Credit history is directly related to Loan Eligibility and the null values in this column constitutes about 8% and hence it is safe if we do not drop the records\n",
    "# Instead we replace it with mode i.e. \"Good\""
   ]
  },
  {
   "cell_type": "code",
   "execution_count": 56,
   "id": "bbbe8bbd-2a64-4a46-acb2-c67c5dcf64d6",
   "metadata": {},
   "outputs": [
    {
     "data": {
      "text/plain": [
       "'Good'"
      ]
     },
     "execution_count": 56,
     "metadata": {},
     "output_type": "execute_result"
    }
   ],
   "source": [
    "df['Credit_History'].mode()[0]"
   ]
  },
  {
   "cell_type": "code",
   "execution_count": 57,
   "id": "17e38551-984e-4364-94b0-78f40e6b3cba",
   "metadata": {},
   "outputs": [],
   "source": [
    "df['Credit_History'] = df['Credit_History'].fillna(df['Credit_History'].mode()[0])"
   ]
  },
  {
   "cell_type": "code",
   "execution_count": 61,
   "id": "9e6714d2-4028-4210-ae1b-f77280403279",
   "metadata": {},
   "outputs": [],
   "source": [
    "df = df.dropna()"
   ]
  },
  {
   "cell_type": "code",
   "execution_count": 66,
   "id": "fa4a3be3-8baf-412f-9066-050234093f6b",
   "metadata": {},
   "outputs": [],
   "source": [
    "df[\"Loan_Amount_Term\"] = df[\"Loan_Amount_Term\"].astype(int)"
   ]
  },
  {
   "cell_type": "code",
   "execution_count": 68,
   "id": "131b67f3-ae83-4ef1-90b6-65bc5500c240",
   "metadata": {},
   "outputs": [
    {
     "data": {
      "text/plain": [
       "Loan_ID                object\n",
       "Gender                 object\n",
       "Married                object\n",
       "Dependents              int64\n",
       "Education              object\n",
       "Self_Employed          object\n",
       "Applicant_Income        int64\n",
       "Coapplicant_Income      int64\n",
       "Loan_Amount           float64\n",
       "Loan_Amount_Term        int64\n",
       "Credit_History         object\n",
       "Property_Area          object\n",
       "Loan_Status            object\n",
       "dtype: object"
      ]
     },
     "execution_count": 68,
     "metadata": {},
     "output_type": "execute_result"
    }
   ],
   "source": [
    "df.dtypes"
   ]
  },
  {
   "cell_type": "code",
   "execution_count": 69,
   "id": "c232bde3-e011-4ac6-b857-05a82ed8e172",
   "metadata": {},
   "outputs": [],
   "source": [
    "# Creating new column\n",
    "df[\"Total_Income\"] = df[\"Applicant_Income\"] + df[\"Coapplicant_Income\"]"
   ]
  },
  {
   "cell_type": "code",
   "execution_count": 71,
   "id": "cca952b7-9680-4c51-831d-a0155b219224",
   "metadata": {},
   "outputs": [],
   "source": [
    "# Dropping unimportant columns \n",
    "df = df.drop(columns=[\"Loan_ID\",\"Applicant_Income\",\"Coapplicant_Income\"])"
   ]
  },
  {
   "cell_type": "markdown",
   "id": "9df838fc-f271-460d-af5f-90c464c57cac",
   "metadata": {},
   "source": [
    "# LOAD"
   ]
  },
  {
   "cell_type": "code",
   "execution_count": 84,
   "id": "4f1f838d-a3d2-4c40-a6f0-5a3a0127804e",
   "metadata": {},
   "outputs": [],
   "source": [
    "continuous.append(\"Total_Income\")"
   ]
  },
  {
   "cell_type": "code",
   "execution_count": 86,
   "id": "93b9248b-ad44-4102-9316-90cace6b2c93",
   "metadata": {},
   "outputs": [
    {
     "data": {
      "text/plain": [
       "['Loan_Amount', 'Total_Income']"
      ]
     },
     "execution_count": 86,
     "metadata": {},
     "output_type": "execute_result"
    }
   ],
   "source": [
    "continuous\n",
    "#removed Applicant_Income and Coapplicant_Income and added Total_Income to the list"
   ]
  },
  {
   "cell_type": "code",
   "execution_count": 88,
   "id": "c504b78c-453d-47e5-9894-cba8c7c5cfe2",
   "metadata": {},
   "outputs": [
    {
     "data": {
      "text/html": [
       "<div>\n",
       "<style scoped>\n",
       "    .dataframe tbody tr th:only-of-type {\n",
       "        vertical-align: middle;\n",
       "    }\n",
       "\n",
       "    .dataframe tbody tr th {\n",
       "        vertical-align: top;\n",
       "    }\n",
       "\n",
       "    .dataframe thead th {\n",
       "        text-align: right;\n",
       "    }\n",
       "</style>\n",
       "<table border=\"1\" class=\"dataframe\">\n",
       "  <thead>\n",
       "    <tr style=\"text-align: right;\">\n",
       "      <th></th>\n",
       "      <th>Loan_Amount</th>\n",
       "      <th>Total_Income</th>\n",
       "    </tr>\n",
       "  </thead>\n",
       "  <tbody>\n",
       "    <tr>\n",
       "      <th>count</th>\n",
       "      <td>578.000000</td>\n",
       "      <td>578.000000</td>\n",
       "    </tr>\n",
       "    <tr>\n",
       "      <th>mean</th>\n",
       "      <td>147.143599</td>\n",
       "      <td>7075.619377</td>\n",
       "    </tr>\n",
       "    <tr>\n",
       "      <th>std</th>\n",
       "      <td>86.342523</td>\n",
       "      <td>6597.498068</td>\n",
       "    </tr>\n",
       "    <tr>\n",
       "      <th>min</th>\n",
       "      <td>9.000000</td>\n",
       "      <td>1442.000000</td>\n",
       "    </tr>\n",
       "    <tr>\n",
       "      <th>25%</th>\n",
       "      <td>100.000000</td>\n",
       "      <td>4166.000000</td>\n",
       "    </tr>\n",
       "    <tr>\n",
       "      <th>50%</th>\n",
       "      <td>128.000000</td>\n",
       "      <td>5407.000000</td>\n",
       "    </tr>\n",
       "    <tr>\n",
       "      <th>75%</th>\n",
       "      <td>168.000000</td>\n",
       "      <td>7539.500000</td>\n",
       "    </tr>\n",
       "    <tr>\n",
       "      <th>max</th>\n",
       "      <td>700.000000</td>\n",
       "      <td>81000.000000</td>\n",
       "    </tr>\n",
       "  </tbody>\n",
       "</table>\n",
       "</div>"
      ],
      "text/plain": [
       "       Loan_Amount  Total_Income\n",
       "count   578.000000    578.000000\n",
       "mean    147.143599   7075.619377\n",
       "std      86.342523   6597.498068\n",
       "min       9.000000   1442.000000\n",
       "25%     100.000000   4166.000000\n",
       "50%     128.000000   5407.000000\n",
       "75%     168.000000   7539.500000\n",
       "max     700.000000  81000.000000"
      ]
     },
     "execution_count": 88,
     "metadata": {},
     "output_type": "execute_result"
    }
   ],
   "source": [
    "df[continuous].describe()"
   ]
  },
  {
   "cell_type": "markdown",
   "id": "45a869bb-7255-42a6-9bde-21fd5ddff624",
   "metadata": {},
   "source": [
    "# For both the columns mean > median heance right skewed"
   ]
  },
  {
   "cell_type": "code",
   "execution_count": 92,
   "id": "4a3a8966-498a-47fb-8c4a-dd86f7e8e544",
   "metadata": {},
   "outputs": [
    {
     "data": {
      "text/html": [
       "<div>\n",
       "<style scoped>\n",
       "    .dataframe tbody tr th:only-of-type {\n",
       "        vertical-align: middle;\n",
       "    }\n",
       "\n",
       "    .dataframe tbody tr th {\n",
       "        vertical-align: top;\n",
       "    }\n",
       "\n",
       "    .dataframe thead th {\n",
       "        text-align: right;\n",
       "    }\n",
       "</style>\n",
       "<table border=\"1\" class=\"dataframe\">\n",
       "  <thead>\n",
       "    <tr style=\"text-align: right;\">\n",
       "      <th></th>\n",
       "      <th>Gender</th>\n",
       "      <th>Married</th>\n",
       "      <th>Education</th>\n",
       "      <th>Self_Employed</th>\n",
       "      <th>Credit_History</th>\n",
       "      <th>Property_Area</th>\n",
       "      <th>Loan_Status</th>\n",
       "    </tr>\n",
       "  </thead>\n",
       "  <tbody>\n",
       "    <tr>\n",
       "      <th>count</th>\n",
       "      <td>578</td>\n",
       "      <td>578</td>\n",
       "      <td>578</td>\n",
       "      <td>578</td>\n",
       "      <td>578</td>\n",
       "      <td>578</td>\n",
       "      <td>578</td>\n",
       "    </tr>\n",
       "    <tr>\n",
       "      <th>unique</th>\n",
       "      <td>2</td>\n",
       "      <td>2</td>\n",
       "      <td>2</td>\n",
       "      <td>2</td>\n",
       "      <td>2</td>\n",
       "      <td>3</td>\n",
       "      <td>2</td>\n",
       "    </tr>\n",
       "    <tr>\n",
       "      <th>top</th>\n",
       "      <td>Male</td>\n",
       "      <td>Yes</td>\n",
       "      <td>Graduate</td>\n",
       "      <td>No</td>\n",
       "      <td>Good</td>\n",
       "      <td>Semiurban</td>\n",
       "      <td>Y</td>\n",
       "    </tr>\n",
       "    <tr>\n",
       "      <th>freq</th>\n",
       "      <td>472</td>\n",
       "      <td>377</td>\n",
       "      <td>457</td>\n",
       "      <td>501</td>\n",
       "      <td>499</td>\n",
       "      <td>225</td>\n",
       "      <td>403</td>\n",
       "    </tr>\n",
       "  </tbody>\n",
       "</table>\n",
       "</div>"
      ],
      "text/plain": [
       "       Gender Married Education Self_Employed Credit_History Property_Area  \\\n",
       "count     578     578       578           578            578           578   \n",
       "unique      2       2         2             2              2             3   \n",
       "top      Male     Yes  Graduate            No           Good     Semiurban   \n",
       "freq      472     377       457           501            499           225   \n",
       "\n",
       "       Loan_Status  \n",
       "count          578  \n",
       "unique           2  \n",
       "top              Y  \n",
       "freq           403  "
      ]
     },
     "execution_count": 92,
     "metadata": {},
     "output_type": "execute_result"
    }
   ],
   "source": [
    "df[categorical].describe()"
   ]
  },
  {
   "cell_type": "code",
   "execution_count": 95,
   "id": "9704389d-847e-4599-bd0d-26aac973084e",
   "metadata": {},
   "outputs": [
    {
     "data": {
      "text/plain": [
       "Gender\n",
       "Male      472\n",
       "Female    106\n",
       "Name: count, dtype: int64"
      ]
     },
     "execution_count": 95,
     "metadata": {},
     "output_type": "execute_result"
    }
   ],
   "source": [
    "# Which category people have more applications\n",
    "df[\"Gender\"].value_counts()"
   ]
  },
  {
   "cell_type": "code",
   "execution_count": 96,
   "id": "18b2aa5c-7f06-4cb3-a023-0312805add5d",
   "metadata": {},
   "outputs": [
    {
     "data": {
      "text/plain": [
       "Married\n",
       "Yes    377\n",
       "No     201\n",
       "Name: count, dtype: int64"
      ]
     },
     "execution_count": 96,
     "metadata": {},
     "output_type": "execute_result"
    }
   ],
   "source": [
    "df[\"Married\"].value_counts()"
   ]
  },
  {
   "cell_type": "code",
   "execution_count": 101,
   "id": "9f88930a-1e13-4616-b749-def53479bf0f",
   "metadata": {},
   "outputs": [
    {
     "data": {
      "text/plain": [
       "<BarContainer object of 2 artists>"
      ]
     },
     "execution_count": 101,
     "metadata": {},
     "output_type": "execute_result"
    },
    {
     "data": {
      "image/png": "[encoded data removed]",
      "text/plain": [
       "<Figure size 640x480 with 1 Axes>"
      ]
     },
     "metadata": {},
     "output_type": "display_data"
    }
   ],
   "source": [
    "plt.bar(df[\"Married\"].value_counts().index.tolist(),df[\"Married\"].value_counts())"
   ]
  },
  {
   "cell_type": "code",
   "execution_count": 99,
   "id": "a4761450-87a2-43a4-9604-3c9be6b14bfe",
   "metadata": {},
   "outputs": [
    {
     "data": {
      "text/plain": [
       "Loan_Status\n",
       "Y    403\n",
       "N    175\n",
       "Name: count, dtype: int64"
      ]
     },
     "execution_count": 99,
     "metadata": {},
     "output_type": "execute_result"
    }
   ],
   "source": [
    "df[\"Loan_Status\"].value_counts()"
   ]
  },
  {
   "cell_type": "code",
   "execution_count": 102,
   "id": "2e02e26b-de8b-46d4-8e84-7715557728ef",
   "metadata": {},
   "outputs": [
    {
     "data": {
      "text/plain": [
       "<BarContainer object of 2 artists>"
      ]
     },
     "execution_count": 102,
     "metadata": {},
     "output_type": "execute_result"
    },
    {
     "data": {
      "image/png": "[encoded data removed]",
      "text/plain": [
       "<Figure size 640x480 with 1 Axes>"
      ]
     },
     "metadata": {},
     "output_type": "display_data"
    }
   ],
   "source": [
    "plt.bar(df[\"Loan_Status\"].value_counts().index.tolist(),df[\"Loan_Status\"].value_counts())"
   ]
  },
  {
   "cell_type": "code",
   "execution_count": 294,
   "id": "cf0af0d1-cb1e-4a8e-9a00-622f98348d22",
   "metadata": {},
   "outputs": [
    {
     "data": {
      "image/png": "[encoded data removed]",
      "text/plain": [
       "<Figure size 640x480 with 1 Axes>"
      ]
     },
     "metadata": {},
     "output_type": "display_data"
    }
   ],
   "source": [
    "sns.histplot(df[\"Total_Income\"],bins=20)\n",
    "plt.show()"
   ]
  },
  {
   "cell_type": "code",
   "execution_count": 292,
   "id": "858db2a4-b3eb-4b9e-9c96-bc1c9926e8c0",
   "metadata": {},
   "outputs": [
    {
     "data": {
      "image/png": "[encoded data removed]",
      "text/plain": [
       "<Figure size 640x480 with 1 Axes>"
      ]
     },
     "metadata": {},
     "output_type": "display_data"
    }
   ],
   "source": [
    "sns.histplot(df[\"Loan_Amount\"],bins=20)\n",
    "plt.show()"
   ]
  },
  {
   "cell_type": "code",
   "execution_count": 119,
   "id": "1a489336-0c09-44b3-962b-1d3396fb2991",
   "metadata": {},
   "outputs": [
    {
     "data": {
      "text/html": [
       "<div>\n",
       "<style scoped>\n",
       "    .dataframe tbody tr th:only-of-type {\n",
       "        vertical-align: middle;\n",
       "    }\n",
       "\n",
       "    .dataframe tbody tr th {\n",
       "        vertical-align: top;\n",
       "    }\n",
       "\n",
       "    .dataframe thead tr th {\n",
       "        text-align: left;\n",
       "    }\n",
       "</style>\n",
       "<table border=\"1\" class=\"dataframe\">\n",
       "  <thead>\n",
       "    <tr>\n",
       "      <th>Loan_Status</th>\n",
       "      <th colspan=\"2\" halign=\"left\">N</th>\n",
       "      <th colspan=\"2\" halign=\"left\">Y</th>\n",
       "    </tr>\n",
       "    <tr>\n",
       "      <th>Gender</th>\n",
       "      <th>Female</th>\n",
       "      <th>Male</th>\n",
       "      <th>Female</th>\n",
       "      <th>Male</th>\n",
       "    </tr>\n",
       "  </thead>\n",
       "  <tbody>\n",
       "    <tr>\n",
       "      <th>count</th>\n",
       "      <td>35.000000</td>\n",
       "      <td>140.000000</td>\n",
       "      <td>71.000000</td>\n",
       "      <td>332.000000</td>\n",
       "    </tr>\n",
       "    <tr>\n",
       "      <th>mean</th>\n",
       "      <td>130.085714</td>\n",
       "      <td>158.264286</td>\n",
       "      <td>126.323944</td>\n",
       "      <td>148.704819</td>\n",
       "    </tr>\n",
       "    <tr>\n",
       "      <th>std</th>\n",
       "      <td>65.471310</td>\n",
       "      <td>90.776713</td>\n",
       "      <td>86.935900</td>\n",
       "      <td>85.545399</td>\n",
       "    </tr>\n",
       "    <tr>\n",
       "      <th>min</th>\n",
       "      <td>9.000000</td>\n",
       "      <td>35.000000</td>\n",
       "      <td>30.000000</td>\n",
       "      <td>17.000000</td>\n",
       "    </tr>\n",
       "    <tr>\n",
       "      <th>25%</th>\n",
       "      <td>97.000000</td>\n",
       "      <td>104.000000</td>\n",
       "      <td>87.000000</td>\n",
       "      <td>104.000000</td>\n",
       "    </tr>\n",
       "    <tr>\n",
       "      <th>50%</th>\n",
       "      <td>112.000000</td>\n",
       "      <td>133.500000</td>\n",
       "      <td>113.000000</td>\n",
       "      <td>130.000000</td>\n",
       "    </tr>\n",
       "    <tr>\n",
       "      <th>75%</th>\n",
       "      <td>153.000000</td>\n",
       "      <td>182.750000</td>\n",
       "      <td>136.000000</td>\n",
       "      <td>172.000000</td>\n",
       "    </tr>\n",
       "    <tr>\n",
       "      <th>max</th>\n",
       "      <td>350.000000</td>\n",
       "      <td>570.000000</td>\n",
       "      <td>600.000000</td>\n",
       "      <td>700.000000</td>\n",
       "    </tr>\n",
       "  </tbody>\n",
       "</table>\n",
       "</div>"
      ],
      "text/plain": [
       "Loan_Status           N                       Y            \n",
       "Gender           Female        Male      Female        Male\n",
       "count         35.000000  140.000000   71.000000  332.000000\n",
       "mean         130.085714  158.264286  126.323944  148.704819\n",
       "std           65.471310   90.776713   86.935900   85.545399\n",
       "min            9.000000   35.000000   30.000000   17.000000\n",
       "25%           97.000000  104.000000   87.000000  104.000000\n",
       "50%          112.000000  133.500000  113.000000  130.000000\n",
       "75%          153.000000  182.750000  136.000000  172.000000\n",
       "max          350.000000  570.000000  600.000000  700.000000"
      ]
     },
     "execution_count": 119,
     "metadata": {},
     "output_type": "execute_result"
    }
   ],
   "source": [
    "df.groupby([\"Loan_Status\",\"Gender\"])[\"Loan_Amount\"].describe().T"
   ]
  },
  {
   "cell_type": "code",
   "execution_count": 122,
   "id": "f29eacae-5fda-4113-966c-500bba01124c",
   "metadata": {},
   "outputs": [
    {
     "data": {
      "text/html": [
       "<div>\n",
       "<style scoped>\n",
       "    .dataframe tbody tr th:only-of-type {\n",
       "        vertical-align: middle;\n",
       "    }\n",
       "\n",
       "    .dataframe tbody tr th {\n",
       "        vertical-align: top;\n",
       "    }\n",
       "\n",
       "    .dataframe thead th {\n",
       "        text-align: right;\n",
       "    }\n",
       "</style>\n",
       "<table border=\"1\" class=\"dataframe\">\n",
       "  <thead>\n",
       "    <tr style=\"text-align: right;\">\n",
       "      <th>Loan_Status</th>\n",
       "      <th>N</th>\n",
       "      <th>Y</th>\n",
       "      <th>All</th>\n",
       "    </tr>\n",
       "    <tr>\n",
       "      <th>Gender</th>\n",
       "      <th></th>\n",
       "      <th></th>\n",
       "      <th></th>\n",
       "    </tr>\n",
       "  </thead>\n",
       "  <tbody>\n",
       "    <tr>\n",
       "      <th>Female</th>\n",
       "      <td>35</td>\n",
       "      <td>71</td>\n",
       "      <td>106</td>\n",
       "    </tr>\n",
       "    <tr>\n",
       "      <th>Male</th>\n",
       "      <td>140</td>\n",
       "      <td>332</td>\n",
       "      <td>472</td>\n",
       "    </tr>\n",
       "    <tr>\n",
       "      <th>All</th>\n",
       "      <td>175</td>\n",
       "      <td>403</td>\n",
       "      <td>578</td>\n",
       "    </tr>\n",
       "  </tbody>\n",
       "</table>\n",
       "</div>"
      ],
      "text/plain": [
       "Loan_Status    N    Y  All\n",
       "Gender                    \n",
       "Female        35   71  106\n",
       "Male         140  332  472\n",
       "All          175  403  578"
      ]
     },
     "execution_count": 122,
     "metadata": {},
     "output_type": "execute_result"
    }
   ],
   "source": [
    "pd.crosstab(df[\"Gender\"],df[\"Loan_Status\"],margins=True)"
   ]
  },
  {
   "cell_type": "code",
   "execution_count": 124,
   "id": "ac07e153-264c-4db9-8ae6-239de39a9803",
   "metadata": {},
   "outputs": [
    {
     "data": {
      "text/plain": [
       "<Axes: xlabel='Gender', ylabel='count'>"
      ]
     },
     "execution_count": 124,
     "metadata": {},
     "output_type": "execute_result"
    },
    {
     "data": {
      "image/png": "[encoded data removed]",
      "text/plain": [
       "<Figure size 640x480 with 1 Axes>"
      ]
     },
     "metadata": {},
     "output_type": "display_data"
    }
   ],
   "source": [
    "sns.countplot(data=df, x='Gender', hue='Loan_Status')"
   ]
  },
  {
   "cell_type": "code",
   "execution_count": 145,
   "id": "c495e70a-a046-420e-9631-f6a6b4eb003c",
   "metadata": {},
   "outputs": [
    {
     "data": {
      "text/plain": [
       "<BarContainer object of 578 artists>"
      ]
     },
     "execution_count": 145,
     "metadata": {},
     "output_type": "execute_result"
    },
    {
     "data": {
      "image/png": "[encoded data removed]",
      "text/plain": [
       "<Figure size 640x480 with 1 Axes>"
      ]
     },
     "metadata": {},
     "output_type": "display_data"
    }
   ],
   "source": [
    "# Credit History vs Loan Status\n",
    "\n",
    "plt.bar(df[\"Credit_History\"],df[\"Loan_Amount\"])"
   ]
  },
  {
   "cell_type": "code",
   "execution_count": 146,
   "id": "a8ec4546-b8cc-4669-96d9-bb8ae62dd0b0",
   "metadata": {},
   "outputs": [
    {
     "data": {
      "text/plain": [
       "<Axes: xlabel='Credit_History', ylabel='count'>"
      ]
     },
     "execution_count": 146,
     "metadata": {},
     "output_type": "execute_result"
    },
    {
     "data": {
      "image/png": "[encoded data removed]",
      "text/plain": [
       "<Figure size 640x480 with 1 Axes>"
      ]
     },
     "metadata": {},
     "output_type": "display_data"
    }
   ],
   "source": [
    "# Does having a good credit history improve loan approval chances?\n",
    "sns.countplot(data=df, x='Credit_History', hue='Loan_Status')"
   ]
  },
  {
   "cell_type": "code",
   "execution_count": 165,
   "id": "ea2599d5-b541-4e71-9fb1-75b655b75a4d",
   "metadata": {},
   "outputs": [
    {
     "data": {
      "text/plain": [
       "Credit_History\n",
       "Bad      79\n",
       "Good    499\n",
       "Name: Loan_Status, dtype: int64"
      ]
     },
     "execution_count": 165,
     "metadata": {},
     "output_type": "execute_result"
    }
   ],
   "source": [
    "Group_CH_LS = df.groupby('Credit_History')[\"Loan_Status\"].count()\n",
    "Group_CH_LS"
   ]
  },
  {
   "cell_type": "code",
   "execution_count": 168,
   "id": "572d6dbf-3691-4195-a618-4d901d1dc293",
   "metadata": {},
   "outputs": [
    {
     "data": {
      "image/png": "[encoded data removed]",
      "text/plain": [
       "<Figure size 400x400 with 1 Axes>"
      ]
     },
     "metadata": {},
     "output_type": "display_data"
    }
   ],
   "source": [
    "plt.figure(figsize=(4,4))\n",
    "plt.bar(Group_CH_LS.index,Group_CH_LS.values)\n",
    "plt.title(\"Loan Status by Credit History\")\n",
    "plt.xlabel(\"Credit History\")\n",
    "plt.ylabel(\"Number of Applicants\")\n",
    "plt.show()"
   ]
  },
  {
   "cell_type": "code",
   "execution_count": 169,
   "id": "1d135454-d662-4a6a-a232-3f9555a667d8",
   "metadata": {},
   "outputs": [
    {
     "data": {
      "text/html": [
       "<div>\n",
       "<style scoped>\n",
       "    .dataframe tbody tr th:only-of-type {\n",
       "        vertical-align: middle;\n",
       "    }\n",
       "\n",
       "    .dataframe tbody tr th {\n",
       "        vertical-align: top;\n",
       "    }\n",
       "\n",
       "    .dataframe thead th {\n",
       "        text-align: right;\n",
       "    }\n",
       "</style>\n",
       "<table border=\"1\" class=\"dataframe\">\n",
       "  <thead>\n",
       "    <tr style=\"text-align: right;\">\n",
       "      <th></th>\n",
       "      <th>Gender</th>\n",
       "      <th>Married</th>\n",
       "      <th>Dependents</th>\n",
       "      <th>Education</th>\n",
       "      <th>Self_Employed</th>\n",
       "      <th>Loan_Amount</th>\n",
       "      <th>Loan_Amount_Term</th>\n",
       "      <th>Credit_History</th>\n",
       "      <th>Property_Area</th>\n",
       "      <th>Loan_Status</th>\n",
       "      <th>Total_Income</th>\n",
       "    </tr>\n",
       "  </thead>\n",
       "  <tbody>\n",
       "    <tr>\n",
       "      <th>122</th>\n",
       "      <td>Female</td>\n",
       "      <td>No</td>\n",
       "      <td>0</td>\n",
       "      <td>Graduate</td>\n",
       "      <td>No</td>\n",
       "      <td>137.0</td>\n",
       "      <td>360</td>\n",
       "      <td>Bad</td>\n",
       "      <td>Semiurban</td>\n",
       "      <td>Y</td>\n",
       "      <td>11117</td>\n",
       "    </tr>\n",
       "    <tr>\n",
       "      <th>155</th>\n",
       "      <td>Male</td>\n",
       "      <td>Yes</td>\n",
       "      <td>3</td>\n",
       "      <td>Graduate</td>\n",
       "      <td>No</td>\n",
       "      <td>600.0</td>\n",
       "      <td>180</td>\n",
       "      <td>Bad</td>\n",
       "      <td>Semiurban</td>\n",
       "      <td>Y</td>\n",
       "      <td>39999</td>\n",
       "    </tr>\n",
       "    <tr>\n",
       "      <th>201</th>\n",
       "      <td>Male</td>\n",
       "      <td>No</td>\n",
       "      <td>2</td>\n",
       "      <td>Graduate</td>\n",
       "      <td>No</td>\n",
       "      <td>166.0</td>\n",
       "      <td>360</td>\n",
       "      <td>Bad</td>\n",
       "      <td>Semiurban</td>\n",
       "      <td>Y</td>\n",
       "      <td>4923</td>\n",
       "    </tr>\n",
       "    <tr>\n",
       "      <th>267</th>\n",
       "      <td>Male</td>\n",
       "      <td>Yes</td>\n",
       "      <td>3</td>\n",
       "      <td>Graduate</td>\n",
       "      <td>No</td>\n",
       "      <td>160.0</td>\n",
       "      <td>360</td>\n",
       "      <td>Bad</td>\n",
       "      <td>Urban</td>\n",
       "      <td>Y</td>\n",
       "      <td>6144</td>\n",
       "    </tr>\n",
       "    <tr>\n",
       "      <th>326</th>\n",
       "      <td>Male</td>\n",
       "      <td>No</td>\n",
       "      <td>0</td>\n",
       "      <td>Graduate</td>\n",
       "      <td>No</td>\n",
       "      <td>130.0</td>\n",
       "      <td>360</td>\n",
       "      <td>Bad</td>\n",
       "      <td>Rural</td>\n",
       "      <td>Y</td>\n",
       "      <td>4917</td>\n",
       "    </tr>\n",
       "    <tr>\n",
       "      <th>453</th>\n",
       "      <td>Male</td>\n",
       "      <td>Yes</td>\n",
       "      <td>0</td>\n",
       "      <td>Graduate</td>\n",
       "      <td>No</td>\n",
       "      <td>90.0</td>\n",
       "      <td>180</td>\n",
       "      <td>Bad</td>\n",
       "      <td>Rural</td>\n",
       "      <td>Y</td>\n",
       "      <td>4949</td>\n",
       "    </tr>\n",
       "    <tr>\n",
       "      <th>527</th>\n",
       "      <td>Male</td>\n",
       "      <td>Yes</td>\n",
       "      <td>1</td>\n",
       "      <td>Not Graduate</td>\n",
       "      <td>No</td>\n",
       "      <td>161.0</td>\n",
       "      <td>360</td>\n",
       "      <td>Bad</td>\n",
       "      <td>Semiurban</td>\n",
       "      <td>Y</td>\n",
       "      <td>6715</td>\n",
       "    </tr>\n",
       "  </tbody>\n",
       "</table>\n",
       "</div>"
      ],
      "text/plain": [
       "     Gender Married  Dependents     Education Self_Employed  Loan_Amount  \\\n",
       "122  Female      No           0      Graduate            No        137.0   \n",
       "155    Male     Yes           3      Graduate            No        600.0   \n",
       "201    Male      No           2      Graduate            No        166.0   \n",
       "267    Male     Yes           3      Graduate            No        160.0   \n",
       "326    Male      No           0      Graduate            No        130.0   \n",
       "453    Male     Yes           0      Graduate            No         90.0   \n",
       "527    Male     Yes           1  Not Graduate            No        161.0   \n",
       "\n",
       "     Loan_Amount_Term Credit_History Property_Area Loan_Status  Total_Income  \n",
       "122               360            Bad     Semiurban           Y         11117  \n",
       "155               180            Bad     Semiurban           Y         39999  \n",
       "201               360            Bad     Semiurban           Y          4923  \n",
       "267               360            Bad         Urban           Y          6144  \n",
       "326               360            Bad         Rural           Y          4917  \n",
       "453               180            Bad         Rural           Y          4949  \n",
       "527               360            Bad     Semiurban           Y          6715  "
      ]
     },
     "execution_count": 169,
     "metadata": {},
     "output_type": "execute_result"
    }
   ],
   "source": [
    "df[(df[\"Credit_History\"] == \"Bad\") & (df[\"Loan_Status\"]==\"Y\")]"
   ]
  },
  {
   "cell_type": "code",
   "execution_count": 162,
   "id": "7e03bf3a-947f-4a47-a544-6482848b5152",
   "metadata": {},
   "outputs": [
    {
     "data": {
      "text/html": [
       "<div>\n",
       "<style scoped>\n",
       "    .dataframe tbody tr th:only-of-type {\n",
       "        vertical-align: middle;\n",
       "    }\n",
       "\n",
       "    .dataframe tbody tr th {\n",
       "        vertical-align: top;\n",
       "    }\n",
       "\n",
       "    .dataframe thead th {\n",
       "        text-align: right;\n",
       "    }\n",
       "</style>\n",
       "<table border=\"1\" class=\"dataframe\">\n",
       "  <thead>\n",
       "    <tr style=\"text-align: right;\">\n",
       "      <th></th>\n",
       "      <th>Gender</th>\n",
       "      <th>Married</th>\n",
       "      <th>Dependents</th>\n",
       "      <th>Education</th>\n",
       "      <th>Self_Employed</th>\n",
       "      <th>Loan_Amount</th>\n",
       "      <th>Loan_Amount_Term</th>\n",
       "      <th>Credit_History</th>\n",
       "      <th>Property_Area</th>\n",
       "      <th>Loan_Status</th>\n",
       "      <th>Total_Income</th>\n",
       "    </tr>\n",
       "  </thead>\n",
       "  <tbody>\n",
       "    <tr>\n",
       "      <th>7</th>\n",
       "      <td>Male</td>\n",
       "      <td>Yes</td>\n",
       "      <td>3</td>\n",
       "      <td>Graduate</td>\n",
       "      <td>No</td>\n",
       "      <td>158.0</td>\n",
       "      <td>360</td>\n",
       "      <td>Bad</td>\n",
       "      <td>Semiurban</td>\n",
       "      <td>N</td>\n",
       "      <td>5540</td>\n",
       "    </tr>\n",
       "    <tr>\n",
       "      <th>17</th>\n",
       "      <td>Female</td>\n",
       "      <td>No</td>\n",
       "      <td>0</td>\n",
       "      <td>Graduate</td>\n",
       "      <td>No</td>\n",
       "      <td>76.0</td>\n",
       "      <td>360</td>\n",
       "      <td>Bad</td>\n",
       "      <td>Urban</td>\n",
       "      <td>N</td>\n",
       "      <td>3510</td>\n",
       "    </tr>\n",
       "    <tr>\n",
       "      <th>20</th>\n",
       "      <td>Male</td>\n",
       "      <td>Yes</td>\n",
       "      <td>0</td>\n",
       "      <td>Not Graduate</td>\n",
       "      <td>No</td>\n",
       "      <td>104.0</td>\n",
       "      <td>360</td>\n",
       "      <td>Bad</td>\n",
       "      <td>Urban</td>\n",
       "      <td>N</td>\n",
       "      <td>7660</td>\n",
       "    </tr>\n",
       "    <tr>\n",
       "      <th>22</th>\n",
       "      <td>Male</td>\n",
       "      <td>Yes</td>\n",
       "      <td>0</td>\n",
       "      <td>Not Graduate</td>\n",
       "      <td>No</td>\n",
       "      <td>116.0</td>\n",
       "      <td>360</td>\n",
       "      <td>Bad</td>\n",
       "      <td>Semiurban</td>\n",
       "      <td>N</td>\n",
       "      <td>4511</td>\n",
       "    </tr>\n",
       "    <tr>\n",
       "      <th>23</th>\n",
       "      <td>Male</td>\n",
       "      <td>Yes</td>\n",
       "      <td>2</td>\n",
       "      <td>Not Graduate</td>\n",
       "      <td>No</td>\n",
       "      <td>112.0</td>\n",
       "      <td>360</td>\n",
       "      <td>Bad</td>\n",
       "      <td>Rural</td>\n",
       "      <td>N</td>\n",
       "      <td>5282</td>\n",
       "    </tr>\n",
       "    <tr>\n",
       "      <th>...</th>\n",
       "      <td>...</td>\n",
       "      <td>...</td>\n",
       "      <td>...</td>\n",
       "      <td>...</td>\n",
       "      <td>...</td>\n",
       "      <td>...</td>\n",
       "      <td>...</td>\n",
       "      <td>...</td>\n",
       "      <td>...</td>\n",
       "      <td>...</td>\n",
       "      <td>...</td>\n",
       "    </tr>\n",
       "    <tr>\n",
       "      <th>576</th>\n",
       "      <td>Male</td>\n",
       "      <td>Yes</td>\n",
       "      <td>0</td>\n",
       "      <td>Graduate</td>\n",
       "      <td>No</td>\n",
       "      <td>136.0</td>\n",
       "      <td>360</td>\n",
       "      <td>Bad</td>\n",
       "      <td>Semiurban</td>\n",
       "      <td>N</td>\n",
       "      <td>5297</td>\n",
       "    </tr>\n",
       "    <tr>\n",
       "      <th>584</th>\n",
       "      <td>Male</td>\n",
       "      <td>Yes</td>\n",
       "      <td>1</td>\n",
       "      <td>Graduate</td>\n",
       "      <td>No</td>\n",
       "      <td>146.0</td>\n",
       "      <td>360</td>\n",
       "      <td>Bad</td>\n",
       "      <td>Rural</td>\n",
       "      <td>N</td>\n",
       "      <td>4704</td>\n",
       "    </tr>\n",
       "    <tr>\n",
       "      <th>589</th>\n",
       "      <td>Male</td>\n",
       "      <td>Yes</td>\n",
       "      <td>2</td>\n",
       "      <td>Graduate</td>\n",
       "      <td>Yes</td>\n",
       "      <td>106.0</td>\n",
       "      <td>360</td>\n",
       "      <td>Bad</td>\n",
       "      <td>Semiurban</td>\n",
       "      <td>N</td>\n",
       "      <td>2726</td>\n",
       "    </tr>\n",
       "    <tr>\n",
       "      <th>597</th>\n",
       "      <td>Male</td>\n",
       "      <td>No</td>\n",
       "      <td>0</td>\n",
       "      <td>Graduate</td>\n",
       "      <td>No</td>\n",
       "      <td>88.0</td>\n",
       "      <td>360</td>\n",
       "      <td>Bad</td>\n",
       "      <td>Semiurban</td>\n",
       "      <td>N</td>\n",
       "      <td>2987</td>\n",
       "    </tr>\n",
       "    <tr>\n",
       "      <th>613</th>\n",
       "      <td>Female</td>\n",
       "      <td>No</td>\n",
       "      <td>0</td>\n",
       "      <td>Graduate</td>\n",
       "      <td>Yes</td>\n",
       "      <td>133.0</td>\n",
       "      <td>360</td>\n",
       "      <td>Bad</td>\n",
       "      <td>Semiurban</td>\n",
       "      <td>N</td>\n",
       "      <td>4583</td>\n",
       "    </tr>\n",
       "  </tbody>\n",
       "</table>\n",
       "<p>72 rows × 11 columns</p>\n",
       "</div>"
      ],
      "text/plain": [
       "     Gender Married  Dependents     Education Self_Employed  Loan_Amount  \\\n",
       "7      Male     Yes           3      Graduate            No        158.0   \n",
       "17   Female      No           0      Graduate            No         76.0   \n",
       "20     Male     Yes           0  Not Graduate            No        104.0   \n",
       "22     Male     Yes           0  Not Graduate            No        116.0   \n",
       "23     Male     Yes           2  Not Graduate            No        112.0   \n",
       "..      ...     ...         ...           ...           ...          ...   \n",
       "576    Male     Yes           0      Graduate            No        136.0   \n",
       "584    Male     Yes           1      Graduate            No        146.0   \n",
       "589    Male     Yes           2      Graduate           Yes        106.0   \n",
       "597    Male      No           0      Graduate            No         88.0   \n",
       "613  Female      No           0      Graduate           Yes        133.0   \n",
       "\n",
       "     Loan_Amount_Term Credit_History Property_Area Loan_Status  Total_Income  \n",
       "7                 360            Bad     Semiurban           N          5540  \n",
       "17                360            Bad         Urban           N          3510  \n",
       "20                360            Bad         Urban           N          7660  \n",
       "22                360            Bad     Semiurban           N          4511  \n",
       "23                360            Bad         Rural           N          5282  \n",
       "..                ...            ...           ...         ...           ...  \n",
       "576               360            Bad     Semiurban           N          5297  \n",
       "584               360            Bad         Rural           N          4704  \n",
       "589               360            Bad     Semiurban           N          2726  \n",
       "597               360            Bad     Semiurban           N          2987  \n",
       "613               360            Bad     Semiurban           N          4583  \n",
       "\n",
       "[72 rows x 11 columns]"
      ]
     },
     "execution_count": 162,
     "metadata": {},
     "output_type": "execute_result"
    }
   ],
   "source": [
    "df[(df[\"Credit_History\"] == \"Bad\") & (df[\"Loan_Status\"]==\"N\")]"
   ]
  },
  {
   "cell_type": "code",
   "execution_count": 171,
   "id": "28a03cda-98af-462b-91f6-81bec3d17910",
   "metadata": {},
   "outputs": [
    {
     "data": {
      "text/html": [
       "<div>\n",
       "<style scoped>\n",
       "    .dataframe tbody tr th:only-of-type {\n",
       "        vertical-align: middle;\n",
       "    }\n",
       "\n",
       "    .dataframe tbody tr th {\n",
       "        vertical-align: top;\n",
       "    }\n",
       "\n",
       "    .dataframe thead th {\n",
       "        text-align: right;\n",
       "    }\n",
       "</style>\n",
       "<table border=\"1\" class=\"dataframe\">\n",
       "  <thead>\n",
       "    <tr style=\"text-align: right;\">\n",
       "      <th>Loan_Status</th>\n",
       "      <th>N</th>\n",
       "      <th>Y</th>\n",
       "    </tr>\n",
       "    <tr>\n",
       "      <th>Credit_History</th>\n",
       "      <th></th>\n",
       "      <th></th>\n",
       "    </tr>\n",
       "  </thead>\n",
       "  <tbody>\n",
       "    <tr>\n",
       "      <th>Bad</th>\n",
       "      <td>91.139241</td>\n",
       "      <td>8.860759</td>\n",
       "    </tr>\n",
       "    <tr>\n",
       "      <th>Good</th>\n",
       "      <td>20.641283</td>\n",
       "      <td>79.358717</td>\n",
       "    </tr>\n",
       "  </tbody>\n",
       "</table>\n",
       "</div>"
      ],
      "text/plain": [
       "Loan_Status             N          Y\n",
       "Credit_History                      \n",
       "Bad             91.139241   8.860759\n",
       "Good            20.641283  79.358717"
      ]
     },
     "execution_count": 171,
     "metadata": {},
     "output_type": "execute_result"
    }
   ],
   "source": [
    "pd.crosstab(df['Credit_History'], df['Loan_Status'], normalize='index') * 100"
   ]
  },
  {
   "cell_type": "markdown",
   "id": "4d7c148d-ef32-4a41-b627-a3ba32aef105",
   "metadata": {},
   "source": [
    "# More than 91% of the of applicants who have bad Credit history have loan status as \"NO\" "
   ]
  },
  {
   "cell_type": "code",
   "execution_count": 204,
   "id": "d815ef99-fb2e-4041-8565-f74645cd1085",
   "metadata": {},
   "outputs": [
    {
     "data": {
      "text/plain": [
       "<Axes: xlabel='Loan_Status', ylabel='Total_Income'>"
      ]
     },
     "execution_count": 204,
     "metadata": {},
     "output_type": "execute_result"
    },
    {
     "data": {
      "image/png": "[encoded data removed]",
      "text/plain": [
       "<Figure size 640x480 with 1 Axes>"
      ]
     },
     "metadata": {},
     "output_type": "display_data"
    }
   ],
   "source": [
    "# Does higher income implies loan approval?\n",
    "# Income is not the reason for loan approvals ! ! !\n",
    "# Even though your income is high you can be rejected....\n",
    "sns.boxplot(data=df, x='Loan_Status', y='Total_Income')"
   ]
  },
  {
   "cell_type": "code",
   "execution_count": 154,
   "id": "10af6c0d-793b-4577-824a-fa414b6c1c24",
   "metadata": {},
   "outputs": [
    {
     "data": {
      "image/png": "[encoded data removed]",
      "text/plain": [
       "<Figure size 600x400 with 1 Axes>"
      ]
     },
     "metadata": {},
     "output_type": "display_data"
    }
   ],
   "source": [
    "# Education important for approval?\n",
    "plt.figure(figsize=(6,4))\n",
    "sns.countplot(data=df, x='Education', hue='Loan_Status')\n",
    "plt.title(\"Loan Status by Education\")\n",
    "plt.ylabel(\"Number of Applicants\")\n",
    "plt.show()"
   ]
  },
  {
   "cell_type": "code",
   "execution_count": 188,
   "id": "b69447a3-70d5-4671-a72f-43a7cc9edc69",
   "metadata": {},
   "outputs": [
    {
     "data": {
      "text/plain": [
       "<Axes: xlabel='Loan_Status', ylabel='Loan_Amount'>"
      ]
     },
     "execution_count": 188,
     "metadata": {},
     "output_type": "execute_result"
    },
    {
     "data": {
      "image/png": "[encoded data removed]",
      "text/plain": [
       "<Figure size 640x480 with 1 Axes>"
      ]
     },
     "metadata": {},
     "output_type": "display_data"
    }
   ],
   "source": [
    "sns.boxplot(data=df, x='Loan_Status', y='Loan_Amount',hue='Credit_History')"
   ]
  },
  {
   "cell_type": "markdown",
   "id": "763a4d96-e725-41dd-9f8f-f5bd6a0823b3",
   "metadata": {},
   "source": [
    "People with good credit history are often approved higher loan amounts."
   ]
  },
  {
   "cell_type": "code",
   "execution_count": 202,
   "id": "f1fe0fa3-f8f7-415c-b92f-665a7c2b7227",
   "metadata": {},
   "outputs": [
    {
     "data": {
      "text/plain": [
       "<Axes: xlabel='Loan_Status', ylabel='Loan_Amount'>"
      ]
     },
     "execution_count": 202,
     "metadata": {},
     "output_type": "execute_result"
    },
    {
     "data": {
      "image/png": "[encoded data removed]",
      "text/plain": [
       "<Figure size 640x480 with 1 Axes>"
      ]
     },
     "metadata": {},
     "output_type": "display_data"
    }
   ],
   "source": [
    "sns.boxplot(data=df, x='Loan_Status', y='Loan_Amount')"
   ]
  },
  {
   "cell_type": "code",
   "execution_count": 190,
   "id": "2b45fd02-14ba-4e78-bf85-886b22dbec2b",
   "metadata": {},
   "outputs": [
    {
     "data": {
      "text/plain": [
       "array(['Rural', 'Urban', 'Semiurban'], dtype=object)"
      ]
     },
     "execution_count": 190,
     "metadata": {},
     "output_type": "execute_result"
    }
   ],
   "source": [
    "df.groupby(\"Property_Area\")[\"Loan_Status\"].Count"
   ]
  },
  {
   "cell_type": "code",
   "execution_count": 197,
   "id": "baf506cd-3a0a-4a1a-bb5f-6a230ddd7b2d",
   "metadata": {},
   "outputs": [
    {
     "data": {
      "text/html": [
       "<div>\n",
       "<style scoped>\n",
       "    .dataframe tbody tr th:only-of-type {\n",
       "        vertical-align: middle;\n",
       "    }\n",
       "\n",
       "    .dataframe tbody tr th {\n",
       "        vertical-align: top;\n",
       "    }\n",
       "\n",
       "    .dataframe thead th {\n",
       "        text-align: right;\n",
       "    }\n",
       "</style>\n",
       "<table border=\"1\" class=\"dataframe\">\n",
       "  <thead>\n",
       "    <tr style=\"text-align: right;\">\n",
       "      <th>Loan_Status</th>\n",
       "      <th>N</th>\n",
       "      <th>Y</th>\n",
       "    </tr>\n",
       "    <tr>\n",
       "      <th>Property_Area</th>\n",
       "      <th></th>\n",
       "      <th></th>\n",
       "    </tr>\n",
       "  </thead>\n",
       "  <tbody>\n",
       "    <tr>\n",
       "      <th>Rural</th>\n",
       "      <td>37.869822</td>\n",
       "      <td>62.130178</td>\n",
       "    </tr>\n",
       "    <tr>\n",
       "      <th>Semiurban</th>\n",
       "      <td>23.111111</td>\n",
       "      <td>76.888889</td>\n",
       "    </tr>\n",
       "    <tr>\n",
       "      <th>Urban</th>\n",
       "      <td>32.065217</td>\n",
       "      <td>67.934783</td>\n",
       "    </tr>\n",
       "  </tbody>\n",
       "</table>\n",
       "</div>"
      ],
      "text/plain": [
       "Loan_Status            N          Y\n",
       "Property_Area                      \n",
       "Rural          37.869822  62.130178\n",
       "Semiurban      23.111111  76.888889\n",
       "Urban          32.065217  67.934783"
      ]
     },
     "execution_count": 197,
     "metadata": {},
     "output_type": "execute_result"
    }
   ],
   "source": [
    "pd.crosstab(df[\"Property_Area\"],df[\"Loan_Status\"],normalize='index')*100\n",
    "\n",
    "# OBSERVATION: Majority of the applicatns who are have property are as \"Semiurban\" are getting their loans approved"
   ]
  },
  {
   "cell_type": "code",
   "execution_count": 198,
   "id": "5b1a6e24-93e8-44a5-b87d-bdfa3cd721a7",
   "metadata": {},
   "outputs": [
    {
     "data": {
      "text/html": [
       "<div>\n",
       "<style scoped>\n",
       "    .dataframe tbody tr th:only-of-type {\n",
       "        vertical-align: middle;\n",
       "    }\n",
       "\n",
       "    .dataframe tbody tr th {\n",
       "        vertical-align: top;\n",
       "    }\n",
       "\n",
       "    .dataframe thead th {\n",
       "        text-align: right;\n",
       "    }\n",
       "</style>\n",
       "<table border=\"1\" class=\"dataframe\">\n",
       "  <thead>\n",
       "    <tr style=\"text-align: right;\">\n",
       "      <th>Loan_Status</th>\n",
       "      <th>N</th>\n",
       "      <th>Y</th>\n",
       "    </tr>\n",
       "    <tr>\n",
       "      <th>Property_Area</th>\n",
       "      <th></th>\n",
       "      <th></th>\n",
       "    </tr>\n",
       "  </thead>\n",
       "  <tbody>\n",
       "    <tr>\n",
       "      <th>Rural</th>\n",
       "      <td>36.571429</td>\n",
       "      <td>26.054591</td>\n",
       "    </tr>\n",
       "    <tr>\n",
       "      <th>Semiurban</th>\n",
       "      <td>29.714286</td>\n",
       "      <td>42.928040</td>\n",
       "    </tr>\n",
       "    <tr>\n",
       "      <th>Urban</th>\n",
       "      <td>33.714286</td>\n",
       "      <td>31.017370</td>\n",
       "    </tr>\n",
       "  </tbody>\n",
       "</table>\n",
       "</div>"
      ],
      "text/plain": [
       "Loan_Status            N          Y\n",
       "Property_Area                      \n",
       "Rural          36.571429  26.054591\n",
       "Semiurban      29.714286  42.928040\n",
       "Urban          33.714286  31.017370"
      ]
     },
     "execution_count": 198,
     "metadata": {},
     "output_type": "execute_result"
    }
   ],
   "source": [
    "pd.crosstab(df[\"Property_Area\"],df[\"Loan_Status\"],normalize='columns')*100\n",
    "# MANY APPLICANTS WHO HAVE THEIR LOAN STATUS AS \"Y\" ARE FROM \"SEMIURBAN\" AREAS."
   ]
  },
  {
   "cell_type": "code",
   "execution_count": 218,
   "id": "19e4be6f-6c10-489d-842e-f0936a91fc71",
   "metadata": {},
   "outputs": [],
   "source": [
    "# Creating a column for actual loan amount to check the ratio of Loan amount and Total Income.\n",
    "df[\"Actual_Loan_Amount\"] = df[\"Loan_Amount\"] * 1000"
   ]
  },
  {
   "cell_type": "code",
   "execution_count": 220,
   "id": "e8598e37-2ca0-4ef8-9263-3ade2112b17d",
   "metadata": {},
   "outputs": [
    {
     "data": {
      "image/png": "[encoded data removed]",
      "text/plain": [
       "<Figure size 640x480 with 1 Axes>"
      ]
     },
     "metadata": {},
     "output_type": "display_data"
    }
   ],
   "source": [
    "df['Loan_to_Income'] = df['Actual_Loan_Amount'] / df['Total_Income']\n",
    "\n",
    "sns.boxplot(data=df, x='Loan_Status', y='Loan_to_Income')\n",
    "plt.title(\"Loan-to-Income Ratio vs Loan Status\")\n",
    "plt.show()"
   ]
  },
  {
   "cell_type": "code",
   "execution_count": 235,
   "id": "4104c21e-f6c4-48ea-b8f0-ba649259c3ee",
   "metadata": {},
   "outputs": [],
   "source": [
    "# Majority of the applicants who get rejected have high Loan to Income ratio. "
   ]
  },
  {
   "cell_type": "code",
   "execution_count": 236,
   "id": "ab489238-c33f-4bcc-8948-91b7c72d6750",
   "metadata": {},
   "outputs": [
    {
     "data": {
      "text/plain": [
       "Loan_Status\n",
       "N    23.844546\n",
       "Y    24.460157\n",
       "Name: Loan_to_Income, dtype: float64"
      ]
     },
     "execution_count": 236,
     "metadata": {},
     "output_type": "execute_result"
    }
   ],
   "source": [
    "#Even though they have almost same medians.\n",
    "df.groupby('Loan_Status')['Loan_to_Income'].median()"
   ]
  },
  {
   "cell_type": "code",
   "execution_count": 310,
   "id": "9f51e46a-c352-4786-9caf-da22a3c812d0",
   "metadata": {},
   "outputs": [
    {
     "data": {
      "image/png": "[encoded data removed]",
      "text/plain": [
       "<Figure size 640x480 with 1 Axes>"
      ]
     },
     "metadata": {},
     "output_type": "display_data"
    }
   ],
   "source": [
    "# 360 month loan term is the highest among all applicants.\n",
    "sns.countplot(data=df, x='Loan_Amount_Term')\n",
    "plt.title(\"Distribution of Loan Terms (in Months)\")\n",
    "plt.ylabel(\"Number of Applicants\")\n",
    "plt.show()"
   ]
  },
  {
   "cell_type": "code",
   "execution_count": 287,
   "id": "8a2405ee-e12e-47b6-9dc8-da8c800f8ec8",
   "metadata": {},
   "outputs": [
    {
     "data": {
      "text/html": [
       "<div>\n",
       "<style scoped>\n",
       "    .dataframe tbody tr th:only-of-type {\n",
       "        vertical-align: middle;\n",
       "    }\n",
       "\n",
       "    .dataframe tbody tr th {\n",
       "        vertical-align: top;\n",
       "    }\n",
       "\n",
       "    .dataframe thead th {\n",
       "        text-align: right;\n",
       "    }\n",
       "</style>\n",
       "<table border=\"1\" class=\"dataframe\">\n",
       "  <thead>\n",
       "    <tr style=\"text-align: right;\">\n",
       "      <th>Loan_Amount_Term</th>\n",
       "      <th>12</th>\n",
       "      <th>36</th>\n",
       "      <th>60</th>\n",
       "      <th>84</th>\n",
       "      <th>120</th>\n",
       "      <th>180</th>\n",
       "      <th>240</th>\n",
       "      <th>300</th>\n",
       "      <th>360</th>\n",
       "      <th>480</th>\n",
       "    </tr>\n",
       "    <tr>\n",
       "      <th>Loan_Status</th>\n",
       "      <th></th>\n",
       "      <th></th>\n",
       "      <th></th>\n",
       "      <th></th>\n",
       "      <th></th>\n",
       "      <th></th>\n",
       "      <th></th>\n",
       "      <th></th>\n",
       "      <th></th>\n",
       "      <th></th>\n",
       "    </tr>\n",
       "  </thead>\n",
       "  <tbody>\n",
       "    <tr>\n",
       "      <th>N</th>\n",
       "      <td>0.0</td>\n",
       "      <td>100.0</td>\n",
       "      <td>0.0</td>\n",
       "      <td>25.0</td>\n",
       "      <td>0.0</td>\n",
       "      <td>30.952381</td>\n",
       "      <td>33.333333</td>\n",
       "      <td>38.461538</td>\n",
       "      <td>29.208925</td>\n",
       "      <td>60.0</td>\n",
       "    </tr>\n",
       "    <tr>\n",
       "      <th>Y</th>\n",
       "      <td>100.0</td>\n",
       "      <td>0.0</td>\n",
       "      <td>100.0</td>\n",
       "      <td>75.0</td>\n",
       "      <td>100.0</td>\n",
       "      <td>69.047619</td>\n",
       "      <td>66.666667</td>\n",
       "      <td>61.538462</td>\n",
       "      <td>70.791075</td>\n",
       "      <td>40.0</td>\n",
       "    </tr>\n",
       "  </tbody>\n",
       "</table>\n",
       "</div>"
      ],
      "text/plain": [
       "Loan_Amount_Term    12     36     60    84     120        180        240  \\\n",
       "Loan_Status                                                                \n",
       "N                   0.0  100.0    0.0  25.0    0.0  30.952381  33.333333   \n",
       "Y                 100.0    0.0  100.0  75.0  100.0  69.047619  66.666667   \n",
       "\n",
       "Loan_Amount_Term        300        360   480  \n",
       "Loan_Status                                   \n",
       "N                 38.461538  29.208925  60.0  \n",
       "Y                 61.538462  70.791075  40.0  "
      ]
     },
     "execution_count": 287,
     "metadata": {},
     "output_type": "execute_result"
    }
   ],
   "source": [
    "(pd.crosstab(df[\"Loan_Status\"],df[\"Loan_Amount_Term\"],normalize=\"columns\")*100)"
   ]
  },
  {
   "cell_type": "code",
   "execution_count": 296,
   "id": "a6d2b137-697e-4c02-a353-6f6790685ea9",
   "metadata": {},
   "outputs": [],
   "source": [
    "# Since 360 month loan term is the highest among all applicants, \n",
    "# The percentage of Loan Approvals with 360 month loan term is greater than 70. \n",
    "# That means there is a high chance of approval in case of higher loan term period."
   ]
  },
  {
   "cell_type": "code",
   "execution_count": 311,
   "id": "1e19e141-e76a-4b7b-9ce1-0e32ab2f296c",
   "metadata": {},
   "outputs": [
    {
     "data": {
      "image/png": "[encoded data removed]",
      "text/plain": [
       "<Figure size 640x480 with 1 Axes>"
      ]
     },
     "metadata": {},
     "output_type": "display_data"
    }
   ],
   "source": [
    "sns.countplot(data=df, x='Loan_Amount_Term', hue='Loan_Status')\n",
    "plt.title(\"Loan Status by Loan Term\")\n",
    "plt.ylabel(\"Number of Applicants\")\n",
    "plt.show()"
   ]
  },
  {
   "cell_type": "code",
   "execution_count": 334,
   "id": "268d1420-08e7-40fa-be98-a1977635aad3",
   "metadata": {},
   "outputs": [
    {
     "data": {
      "image/png": "[encoded data removed]",
      "text/plain": [
       "<Figure size 600x400 with 1 Axes>"
      ]
     },
     "metadata": {},
     "output_type": "display_data"
    }
   ],
   "source": [
    "# Most of the applicants have 0 applicants.\n",
    "plt.figure(figsize=(6,4))\n",
    "plt.bar(df[\"Dependents\"].value_counts().index,height=df[\"Dependents\"].value_counts())\n",
    "plt.ylabel(\"Number of Applicants\")\n",
    "plt.xlabel(\"Number of Dependents\")\n",
    "plt.xticks(np.arange(4))\n",
    "plt.show()"
   ]
  },
  {
   "cell_type": "code",
   "execution_count": 304,
   "id": "ae635b01-faf9-4218-afd1-ee134d273c2d",
   "metadata": {},
   "outputs": [
    {
     "data": {
      "text/plain": [
       "Dependents\n",
       "0    335\n",
       "2     98\n",
       "1     97\n",
       "3     48\n",
       "Name: count, dtype: int64"
      ]
     },
     "execution_count": 304,
     "metadata": {},
     "output_type": "execute_result"
    }
   ],
   "source": [
    "df[\"Dependents\"].value_counts()"
   ]
  },
  {
   "cell_type": "code",
   "execution_count": 323,
   "id": "9763061d-5085-45fe-a9b1-4aeb2b43f6e6",
   "metadata": {},
   "outputs": [
    {
     "data": {
      "image/png": "[encoded data removed]",
      "text/plain": [
       "<Figure size 640x480 with 1 Axes>"
      ]
     },
     "metadata": {},
     "output_type": "display_data"
    }
   ],
   "source": [
    "# Most of the applicants have loan amount ranging from 9000 to 3,00,000 USD \n",
    "# And their total incomes ranging from 1000 to 20000 USD\n",
    "sns.scatterplot(data=df, x=\"Total_Income\", y=\"Actual_Loan_Amount\")\n",
    "plt.show()"
   ]
  },
  {
   "cell_type": "code",
   "execution_count": 330,
   "id": "cdeb103a-58a8-47b8-bc71-ec1f4146c5da",
   "metadata": {},
   "outputs": [
    {
     "data": {
      "image/png": "[encoded data removed]",
      "text/plain": [
       "<Figure size 609.486x500 with 1 Axes>"
      ]
     },
     "metadata": {},
     "output_type": "display_data"
    }
   ],
   "source": [
    "# Most of the applicants have Good Credit history. \n",
    "sns.relplot(data=df, x=\"Total_Income\", y=\"Actual_Loan_Amount\",hue=\"Credit_History\")\n",
    "plt.show()"
   ]
  },
  {
   "cell_type": "code",
   "execution_count": 327,
   "id": "a4b63cb2-c9d3-44c7-82f7-40353c6f7d7d",
   "metadata": {},
   "outputs": [
    {
     "data": {
      "image/png": "[encoded data removed]",
      "text/plain": [
       "<Figure size 1000x500 with 2 Axes>"
      ]
     },
     "metadata": {},
     "output_type": "display_data"
    }
   ],
   "source": [
    "sns.relplot(data=df, x=\"Total_Income\", y=\"Actual_Loan_Amount\",col=\"Credit_History\")\n",
    "plt.show()"
   ]
  },
  {
   "cell_type": "markdown",
   "id": "24587ac5-392e-4845-baec-14d81bcc9c7c",
   "metadata": {},
   "source": [
    "**Final Statement** : Loan eligibility is primarily driven by Credit History and supported by Loan Amount relative to Income (loan-to-income ratio), while Gender, Marital Status, Loan amount term  play only a minor role. The company can streamline approvals by prioritizing applicants with good credit history and balanced loan-to-income ratios."
   ]
  }
 ],
 "metadata": {
  "kernelspec": {
   "display_name": "Python 3 (ipykernel)",
   "language": "python",
   "name": "python3"
  },
  "language_info": {
   "codemirror_mode": {
    "name": "ipython",
    "version": 3
   },
   "file_extension": ".py",
   "mimetype": "text/x-python",
   "name": "python",
   "nbconvert_exporter": "python",
   "pygments_lexer": "ipython3",
   "version": "3.13.6"
  }
 },
 "nbformat": 4,
 "nbformat_minor": 5
}
